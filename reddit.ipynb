{
 "cells": [
  {
   "cell_type": "markdown",
   "source": [
    "# Reddit API Script to collect posts"
   ],
   "metadata": {
    "collapsed": false
   }
  },
  {
   "cell_type": "code",
   "execution_count": 8,
   "outputs": [],
   "source": [
    "import pandas as pd\n",
    "import numpy as np\n",
    "\n",
    "import datetime as dt\n",
    "from pprint import pprint\n",
    "from itertools import chain\n",
    "\n",
    "import praw # reddit API crawler\n",
    "\n",
    "import nltk # Sentiment analysis module\n",
    "from nltk.sentiment.vader import SentimentIntensityAnalyzer\n",
    "from nltk.tokenize import word_tokenize, RegexpTokenizer\n",
    "from nltk.corpus import stopwords\n",
    "\n",
    "import matplotlib.pyplot as plt\n",
    "\n",
    "import sys\n",
    "\n",
    "from deep_translator import GoogleTranslator"
   ],
   "metadata": {
    "collapsed": false
   }
  },
  {
   "cell_type": "markdown",
   "source": [
    "Only need to run this for first run, it downloads the VADER lexicon, punkt tokenizer and stop word library"
   ],
   "metadata": {
    "collapsed": false
   }
  },
  {
   "cell_type": "code",
   "execution_count": 9,
   "outputs": [],
   "source": [
    "\n",
    "def downloadNLTK():\n",
    "\n",
    "    nltk.download('vader_lexicon')  # get lexicons data\n",
    "    nltk.download('punkt')  # for tokenizer\n",
    "    nltk.download('stopwords')\n",
    "\n",
    "#downloadNLTK()"
   ],
   "metadata": {
    "collapsed": false
   }
  },
  {
   "cell_type": "code",
   "execution_count": 10,
   "outputs": [],
   "source": [
    "username = 'balackdynamite' # Personal Reddit Account\n",
    "id = 'RcSucsCZw-A0pEmsaaqaQA'\n",
    "secret = 'oIF0qAUUXuh9QtbsgOJwwQM9j4vJLw'\n",
    "\n",
    "r = praw.Reddit(user_agent=username,\n",
    "                client_id=id,\n",
    "                client_secret=secret,\n",
    "                check_for_async=False)"
   ],
   "metadata": {
    "collapsed": false
   }
  },
  {
   "cell_type": "markdown",
   "source": [
    "Initial Test of scraping post titles using the Reddit API"
   ],
   "metadata": {
    "collapsed": false
   }
  },
  {
   "cell_type": "code",
   "execution_count": 11,
   "outputs": [
    {
     "data": {
      "text/plain": "                                               title\n0  The President’s dog, Síoda, has passed away. R...\n1  Let's have a cup of tea and let this all blow ...\n2                         Italy great bunch of lads.\n3                        Ireland stands with Ukraine\n4  Ban Americans traveling until they sort their ...",
      "text/html": "<div>\n<style scoped>\n    .dataframe tbody tr th:only-of-type {\n        vertical-align: middle;\n    }\n\n    .dataframe tbody tr th {\n        vertical-align: top;\n    }\n\n    .dataframe thead th {\n        text-align: right;\n    }\n</style>\n<table border=\"1\" class=\"dataframe\">\n  <thead>\n    <tr style=\"text-align: right;\">\n      <th></th>\n      <th>title</th>\n    </tr>\n  </thead>\n  <tbody>\n    <tr>\n      <th>0</th>\n      <td>The President’s dog, Síoda, has passed away. R...</td>\n    </tr>\n    <tr>\n      <th>1</th>\n      <td>Let's have a cup of tea and let this all blow ...</td>\n    </tr>\n    <tr>\n      <th>2</th>\n      <td>Italy great bunch of lads.</td>\n    </tr>\n    <tr>\n      <th>3</th>\n      <td>Ireland stands with Ukraine</td>\n    </tr>\n    <tr>\n      <th>4</th>\n      <td>Ban Americans traveling until they sort their ...</td>\n    </tr>\n  </tbody>\n</table>\n</div>"
     },
     "execution_count": 11,
     "metadata": {},
     "output_type": "execute_result"
    }
   ],
   "source": [
    "subreddit = 'ireland' # subreddit we want to scrape\n",
    "postLimit = 10 # the amount of posts we want, None = All of them\n",
    "\n",
    "subreddit = r.subreddit(subreddit)\n",
    "\n",
    "posts = [*subreddit.top(limit=postLimit)] # top posts all time\n",
    "\n",
    "titles = [posts.title for posts in posts] # list of title of posts\n",
    "\n",
    "posts = pd.DataFrame({\"title\": titles,})\n",
    "\n",
    "posts.head()"
   ],
   "metadata": {
    "collapsed": false
   }
  },
  {
   "cell_type": "code",
   "execution_count": null,
   "outputs": [],
   "source": [
    "keywords = ['housing market', 'property market', 'real estate', 'construction']\n",
    "subredditList = ['ireland', 'europe', 'germany', 'france']\n",
    "postLimit = 5\n",
    "\n",
    "data = pd.DataFrame()\n",
    "\n",
    "for subreddit in subredditList:\n",
    "    \n",
    "    s = r.subreddit(subreddit)\n",
    "\n",
    "    search_results = s.search(' OR '.join(keywords), limit=postLimit)\n",
    "\n",
    "    titles = [result.title for result in search_results]\n",
    "\n",
    "    data['Subreddit']= subreddit\n",
    "    data['Title']= titles\n",
    "\n",
    "data.head(20)"
   ],
   "metadata": {
    "collapsed": false,
    "pycharm": {
     "is_executing": true
    }
   }
  },
  {
   "cell_type": "markdown",
   "source": [
    "As I am getting posts from non english speaking subreddits I can see potential issues in getting sentiment scores. I am going to use google translate to change the titles to be all in english."
   ],
   "metadata": {
    "collapsed": false
   }
  },
  {
   "cell_type": "code",
   "execution_count": null,
   "outputs": [],
   "source": [
    "for i, title in enumerate(data['Title']):\n",
    "\n",
    "    translation = GoogleTranslator(source='auto', target='en').translate(title)\n",
    "\n",
    "    data.loc[i, 'Title'] = translation\n",
    "\n",
    "data.head(20)"
   ],
   "metadata": {
    "collapsed": false,
    "pycharm": {
     "is_executing": true
    }
   }
  },
  {
   "cell_type": "code",
   "execution_count": null,
   "outputs": [],
   "source": [
    "s = SentimentIntensityAnalyzer()\n",
    "\n",
    "res = data['Title'].apply(lambda x: pd.Series(s.polarity_scores(x)))\n",
    "\n",
    "data = pd.concat([data, res], axis=1)\n",
    "\n",
    "data.head()"
   ],
   "metadata": {
    "collapsed": false,
    "pycharm": {
     "is_executing": true
    }
   }
  },
  {
   "cell_type": "markdown",
   "source": [
    "Threshold values need to be selected to classify the titels into labels: Positive, Negative and Neutral\n",
    "\n",
    "From research a value of 0.05 is typically used as optimal: https://www.researchgate.net/figure/Typical-threshold-values-used-in-VADER-20_fig5_350761338\n"
   ],
   "metadata": {
    "collapsed": false
   }
  },
  {
   "cell_type": "code",
   "execution_count": null,
   "outputs": [],
   "source": [
    "THRESHOLD = 0.05\n",
    "\n",
    "conditions = [\n",
    "    (data['compound'] <= -THRESHOLD),\n",
    "    (data['compound'] > -THRESHOLD) & (data['compound'] < THRESHOLD),\n",
    "    (data['compound'] >= THRESHOLD),\n",
    "    ]\n",
    "\n",
    "values = [\"neg\", \"neu\", \"pos\"]\n",
    "data['label'] = np.select(conditions, values)\n",
    "\n",
    "data.head()"
   ],
   "metadata": {
    "collapsed": false,
    "pycharm": {
     "is_executing": true
    }
   }
  }
 ],
 "metadata": {
  "kernelspec": {
   "display_name": "Python 3",
   "language": "python",
   "name": "python3"
  },
  "language_info": {
   "codemirror_mode": {
    "name": "ipython",
    "version": 2
   },
   "file_extension": ".py",
   "mimetype": "text/x-python",
   "name": "python",
   "nbconvert_exporter": "python",
   "pygments_lexer": "ipython2",
   "version": "2.7.6"
  }
 },
 "nbformat": 4,
 "nbformat_minor": 0
}
