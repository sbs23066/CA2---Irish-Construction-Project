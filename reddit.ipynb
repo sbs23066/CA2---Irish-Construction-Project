{
 "cells": [
  {
   "cell_type": "markdown",
   "source": [
    "# Reddit API Script to collect posts and perform sentiment analysis"
   ],
   "metadata": {
    "collapsed": false
   }
  },
  {
   "cell_type": "code",
   "execution_count": 301,
   "outputs": [],
   "source": [
    "import pandas as pd\n",
    "import numpy as np\n",
    "\n",
    "import time\n",
    "from datetime import datetime\n",
    "\n",
    "import praw # reddit API crawler\n",
    "\n",
    "import nltk # Sentiment analysis module\n",
    "from nltk.sentiment.vader import SentimentIntensityAnalyzer\n",
    "from nltk.tokenize import word_tokenize, RegexpTokenizer\n",
    "from nltk.corpus import stopwords\n",
    "\n",
    "import matplotlib.pyplot as plt\n",
    "import sys\n",
    "\n",
    "from deep_translator import GoogleTranslator"
   ],
   "metadata": {
    "collapsed": false
   }
  },
  {
   "cell_type": "markdown",
   "source": [
    "Only need to run this for first run, it downloads the VADER lexicon, punkt tokenizer and stop word library"
   ],
   "metadata": {
    "collapsed": false
   }
  },
  {
   "cell_type": "code",
   "execution_count": 302,
   "outputs": [],
   "source": [
    "\n",
    "def downloadNLTK():\n",
    "\n",
    "    nltk.download('vader_lexicon')  # get lexicons data\n",
    "    nltk.download('punkt')  # for tokenizer\n",
    "    nltk.download('stopwords')\n",
    "\n",
    "#downloadNLTK()"
   ],
   "metadata": {
    "collapsed": false
   }
  },
  {
   "cell_type": "code",
   "execution_count": 303,
   "outputs": [],
   "source": [
    "username = 'balackdynamite' # Personal Reddit Account\n",
    "id = 'RcSucsCZw-A0pEmsaaqaQA'\n",
    "secret = 'oIF0qAUUXuh9QtbsgOJwwQM9j4vJLw'\n",
    "\n",
    "r = praw.Reddit(user_agent=username,\n",
    "                client_id=id,\n",
    "                client_secret=secret,\n",
    "                check_for_async=False)"
   ],
   "metadata": {
    "collapsed": false
   }
  },
  {
   "cell_type": "markdown",
   "source": [
    "As I am getting posts from non english speaking subreddits I can see potential issues in getting sentiment scores. I am going to use google translate to change the titles to be all in english."
   ],
   "metadata": {
    "collapsed": false
   }
  },
  {
   "cell_type": "code",
   "execution_count": 304,
   "outputs": [],
   "source": [
    "def translateText(data):\n",
    "\n",
    "    try:\n",
    "        translation = GoogleTranslator(source='auto', target='en').translate(data)\n",
    "\n",
    "    except:\n",
    "        translation = data\n",
    "\n",
    "    return translation"
   ],
   "metadata": {
    "collapsed": false
   }
  },
  {
   "cell_type": "markdown",
   "source": [
    "I also would like to tokenize my titles and remove stop words to help imrpve the accuracy of sentiment scores"
   ],
   "metadata": {
    "collapsed": false
   }
  },
  {
   "cell_type": "code",
   "execution_count": 305,
   "outputs": [],
   "source": [
    "def listToString(s):\n",
    "    str1 = \" \"\n",
    "    return (str1.join(s))"
   ],
   "metadata": {
    "collapsed": false
   }
  },
  {
   "cell_type": "code",
   "execution_count": 306,
   "outputs": [],
   "source": [
    "def cleanText(text):\n",
    "\n",
    "    stop_words = stopwords.words('english') # stop words from nltk module\n",
    "\n",
    "    text = text.replace(\"'\", \"\").replace(\"-\", \"\").lower() # removing quotes and dashes\n",
    "\n",
    "    tk = nltk.tokenize.RegexpTokenizer(r'\\w+') #split up text into words\n",
    "    tokens = tk.tokenize(text)\n",
    "\n",
    "    words = [w for w in tokens if not w in stop_words]\n",
    "\n",
    "    text = listToString(words) # convert back to string sentence\n",
    "\n",
    "    return text"
   ],
   "metadata": {
    "collapsed": false
   }
  },
  {
   "cell_type": "code",
   "execution_count": 307,
   "outputs": [],
   "source": [
    "def dataframeSentiment(data):\n",
    "\n",
    "    s = SentimentIntensityAnalyzer()\n",
    "\n",
    "    res = data['Title'].apply(lambda x: pd.Series(s.polarity_scores(x)))\n",
    "\n",
    "    data = pd.concat([data, res], axis=1)\n",
    "\n",
    "    return data"
   ],
   "metadata": {
    "collapsed": false
   }
  },
  {
   "cell_type": "markdown",
   "source": [
    "Threshold values need to be selected to classify the titels into labels: Positive, Negative and Neutral\n",
    "\n",
    "From research a value of 0.05 is typically used as optimal: https://www.researchgate.net/figure/Typical-threshold-values-used-in-VADER-20_fig5_350761338\n"
   ],
   "metadata": {
    "collapsed": false
   }
  },
  {
   "cell_type": "code",
   "execution_count": 308,
   "outputs": [],
   "source": [
    "def dataframeSentimentLabel(data,threshold=0.05):\n",
    "\n",
    "    conditions = [\n",
    "        (data['compound'] <= -threshold),\n",
    "        (data['compound'] > -threshold) & (data['compound'] < threshold),\n",
    "        (data['compound'] >= threshold),\n",
    "        ]\n",
    "\n",
    "    values = [\"neg\", \"neu\", \"pos\"]\n",
    "    data['label'] = np.select(conditions, values)\n",
    "\n",
    "    return data"
   ],
   "metadata": {
    "collapsed": false
   }
  },
  {
   "cell_type": "code",
   "execution_count": 309,
   "outputs": [],
   "source": [
    "def sentimentAnalysis(data):\n",
    "\n",
    "    data = dataframeSentiment(data)\n",
    "\n",
    "    data = dataframeSentimentLabel(data)\n",
    "\n",
    "    return data"
   ],
   "metadata": {
    "collapsed": false
   }
  },
  {
   "cell_type": "markdown",
   "source": [
    "Initial Test of scraping post titles using the Reddit API"
   ],
   "metadata": {
    "collapsed": false
   }
  },
  {
   "cell_type": "markdown",
   "source": [
    "subreddit = 'ireland' # subreddit we want to scrape\n",
    "postLimit = 10 # the amount of posts we want, None = All of them\n",
    "\n",
    "subreddit = r.subreddit(subreddit)\n",
    "\n",
    "posts = [*subreddit.top(limit=postLimit)] # top posts all time\n",
    "\n",
    "titles = [posts.title for posts in posts] # list of title of posts\n",
    "\n",
    "posts = pd.DataFrame({\"title\": titles,})\n",
    "\n",
    "posts.head()"
   ],
   "metadata": {
    "collapsed": false
   }
  },
  {
   "cell_type": "code",
   "execution_count": null,
   "outputs": [],
   "source": [
    "keywords = ['housing market', 'housing', 'property', 'real estate', 'construction', 'building', 'infrastructure', 'labor', 'wages']\n",
    "subredditList = ['ireland', 'europe', 'germany', 'france']\n",
    "postLimit = 10000\n",
    "\n",
    "startTime = time.time_ns()\n",
    "\n",
    "cols = [\"Subreddit\",'Original Title',\"Title\"]\n",
    "cols += keywords\n",
    "\n",
    "data = pd.DataFrame(columns = cols)\n",
    "\n",
    "for subreddit in subredditList:\n",
    "\n",
    "    s = r.subreddit(subreddit)\n",
    "\n",
    "    for submission in r.subreddit(subreddit).top(limit=postLimit):\n",
    "\n",
    "        submission = submission.title\n",
    "\n",
    "        if submission == None:\n",
    "            print('Possible Error, no Title')\n",
    "            continue\n",
    "\n",
    "        ogTitle = submission\n",
    "\n",
    "        submission = translateText(submission) # translate titles to english\n",
    "\n",
    "        submission = cleanText(submission) # function to tokenize, remove stop words and make sentence\n",
    "\n",
    "        row = {'Subreddit': subreddit,\n",
    "               'Original Title': ogTitle,\n",
    "               'Title': submission}\n",
    "\n",
    "        for keyword in keywords:\n",
    "\n",
    "            if keyword in submission:\n",
    "                match = 1\n",
    "            else:\n",
    "                match = 0\n",
    "\n",
    "            row[keyword] = match\n",
    "\n",
    "        data = pd.concat([data, pd.DataFrame([row])], ignore_index=True)\n",
    "\n",
    "data = sentimentAnalysis(data) # function gets sentiment scores and labels them based on threshold value\n",
    "\n",
    "endTime = time.time_ns()\n",
    "\n",
    "runTimeSeconds = int(endTime - startTime)/1000000000\n",
    "\n",
    "print(f'Running analysis on {postLimit * len(subredditList)} posts took {runTimeSeconds} seconds')"
   ],
   "metadata": {
    "collapsed": false,
    "pycharm": {
     "is_executing": true
    }
   }
  },
  {
   "cell_type": "markdown",
   "source": [
    "Exporting to file"
   ],
   "metadata": {
    "collapsed": false
   }
  },
  {
   "cell_type": "code",
   "execution_count": null,
   "outputs": [],
   "source": [
    "now = datetime.now().replace(microsecond=0)\n",
    "\n",
    "fileName = 'redditSentiment-' + str(now).replace(\":\",\"-\") + '.csv'\n",
    "\n",
    "data.to_csv(fileName,index=False)"
   ],
   "metadata": {
    "collapsed": false,
    "pycharm": {
     "is_executing": true
    }
   }
  }
 ],
 "metadata": {
  "kernelspec": {
   "display_name": "Python 3",
   "language": "python",
   "name": "python3"
  },
  "language_info": {
   "codemirror_mode": {
    "name": "ipython",
    "version": 2
   },
   "file_extension": ".py",
   "mimetype": "text/x-python",
   "name": "python",
   "nbconvert_exporter": "python",
   "pygments_lexer": "ipython2",
   "version": "2.7.6"
  }
 },
 "nbformat": 4,
 "nbformat_minor": 0
}
