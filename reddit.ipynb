{
 "cells": [
  {
   "cell_type": "markdown",
   "source": [
    "# Reddit API Script to collect posts"
   ],
   "metadata": {
    "collapsed": false
   }
  },
  {
   "cell_type": "code",
   "execution_count": 178,
   "outputs": [],
   "source": [
    "import pandas as pd\n",
    "import numpy as np\n",
    "\n",
    "import datetime as dt\n",
    "from pprint import pprint\n",
    "from itertools import chain\n",
    "\n",
    "import praw # reddit API crawler\n",
    "\n",
    "import nltk # Sentiment analysis module\n",
    "from nltk.sentiment.vader import SentimentIntensityAnalyzer\n",
    "from nltk.tokenize import word_tokenize, RegexpTokenizer\n",
    "from nltk.corpus import stopwords\n",
    "\n",
    "import matplotlib.pyplot as plt\n",
    "\n",
    "import sys\n",
    "\n",
    "from deep_translator import GoogleTranslator"
   ],
   "metadata": {
    "collapsed": false
   }
  },
  {
   "cell_type": "markdown",
   "source": [
    "Only need to run this for first run, it downloads the VADER lexicon, punkt tokenizer and stop word library"
   ],
   "metadata": {
    "collapsed": false
   }
  },
  {
   "cell_type": "code",
   "execution_count": 179,
   "outputs": [],
   "source": [
    "\n",
    "def downloadNLTK():\n",
    "\n",
    "    nltk.download('vader_lexicon')  # get lexicons data\n",
    "    nltk.download('punkt')  # for tokenizer\n",
    "    nltk.download('stopwords')\n",
    "\n",
    "#downloadNLTK()"
   ],
   "metadata": {
    "collapsed": false
   }
  },
  {
   "cell_type": "code",
   "execution_count": 180,
   "outputs": [],
   "source": [
    "username = 'balackdynamite' # Personal Reddit Account\n",
    "id = 'RcSucsCZw-A0pEmsaaqaQA'\n",
    "secret = 'oIF0qAUUXuh9QtbsgOJwwQM9j4vJLw'\n",
    "\n",
    "r = praw.Reddit(user_agent=username,\n",
    "                client_id=id,\n",
    "                client_secret=secret,\n",
    "                check_for_async=False)"
   ],
   "metadata": {
    "collapsed": false
   }
  },
  {
   "cell_type": "markdown",
   "source": [
    "Initial Test of scraping post titles using the Reddit API"
   ],
   "metadata": {
    "collapsed": false
   }
  },
  {
   "cell_type": "code",
   "execution_count": 181,
   "outputs": [
    {
     "data": {
      "text/plain": "                                               title\n0  The President’s dog, Síoda, has passed away. R...\n1  Let's have a cup of tea and let this all blow ...\n2                         Italy great bunch of lads.\n3                        Ireland stands with Ukraine\n4  Ban Americans traveling until they sort their ...",
      "text/html": "<div>\n<style scoped>\n    .dataframe tbody tr th:only-of-type {\n        vertical-align: middle;\n    }\n\n    .dataframe tbody tr th {\n        vertical-align: top;\n    }\n\n    .dataframe thead th {\n        text-align: right;\n    }\n</style>\n<table border=\"1\" class=\"dataframe\">\n  <thead>\n    <tr style=\"text-align: right;\">\n      <th></th>\n      <th>title</th>\n    </tr>\n  </thead>\n  <tbody>\n    <tr>\n      <th>0</th>\n      <td>The President’s dog, Síoda, has passed away. R...</td>\n    </tr>\n    <tr>\n      <th>1</th>\n      <td>Let's have a cup of tea and let this all blow ...</td>\n    </tr>\n    <tr>\n      <th>2</th>\n      <td>Italy great bunch of lads.</td>\n    </tr>\n    <tr>\n      <th>3</th>\n      <td>Ireland stands with Ukraine</td>\n    </tr>\n    <tr>\n      <th>4</th>\n      <td>Ban Americans traveling until they sort their ...</td>\n    </tr>\n  </tbody>\n</table>\n</div>"
     },
     "execution_count": 181,
     "metadata": {},
     "output_type": "execute_result"
    }
   ],
   "source": [
    "subreddit = 'ireland' # subreddit we want to scrape\n",
    "postLimit = 10 # the amount of posts we want, None = All of them\n",
    "\n",
    "subreddit = r.subreddit(subreddit)\n",
    "\n",
    "posts = [*subreddit.top(limit=postLimit)] # top posts all time\n",
    "\n",
    "titles = [posts.title for posts in posts] # list of title of posts\n",
    "\n",
    "posts = pd.DataFrame({\"title\": titles,})\n",
    "\n",
    "posts.head()"
   ],
   "metadata": {
    "collapsed": false
   }
  },
  {
   "cell_type": "code",
   "execution_count": 182,
   "outputs": [
    {
     "data": {
      "text/plain": "  Subreddit                                              Title\n0    france      Need help to find a french real estate agency\n1    france                     Une histoire une peu mignonne.\n2    france  Mesmerizing sun-and-grape mosaic roundel from ...\n3    france  The Inquiring Photographer, il y a 100 ans, de...\n4    france  Questions about the real estate wealth tax on ...",
      "text/html": "<div>\n<style scoped>\n    .dataframe tbody tr th:only-of-type {\n        vertical-align: middle;\n    }\n\n    .dataframe tbody tr th {\n        vertical-align: top;\n    }\n\n    .dataframe thead th {\n        text-align: right;\n    }\n</style>\n<table border=\"1\" class=\"dataframe\">\n  <thead>\n    <tr style=\"text-align: right;\">\n      <th></th>\n      <th>Subreddit</th>\n      <th>Title</th>\n    </tr>\n  </thead>\n  <tbody>\n    <tr>\n      <th>0</th>\n      <td>france</td>\n      <td>Need help to find a french real estate agency</td>\n    </tr>\n    <tr>\n      <th>1</th>\n      <td>france</td>\n      <td>Une histoire une peu mignonne.</td>\n    </tr>\n    <tr>\n      <th>2</th>\n      <td>france</td>\n      <td>Mesmerizing sun-and-grape mosaic roundel from ...</td>\n    </tr>\n    <tr>\n      <th>3</th>\n      <td>france</td>\n      <td>The Inquiring Photographer, il y a 100 ans, de...</td>\n    </tr>\n    <tr>\n      <th>4</th>\n      <td>france</td>\n      <td>Questions about the real estate wealth tax on ...</td>\n    </tr>\n  </tbody>\n</table>\n</div>"
     },
     "execution_count": 182,
     "metadata": {},
     "output_type": "execute_result"
    }
   ],
   "source": [
    "keywords = ['housing market', 'property market', 'real estate', 'construction']\n",
    "subredditList = ['ireland', 'europe', 'germany', 'france']\n",
    "postLimit = 5\n",
    "\n",
    "data = pd.DataFrame()\n",
    "\n",
    "for subreddit in subredditList:\n",
    "    \n",
    "    s = r.subreddit(subreddit)\n",
    "\n",
    "    search_results = s.search(' OR '.join(keywords), limit=postLimit)\n",
    "\n",
    "    titles = [result.title for result in search_results]\n",
    "\n",
    "    data['Subreddit']= subreddit\n",
    "    data['Title']= titles\n",
    "\n",
    "data.head(20)"
   ],
   "metadata": {
    "collapsed": false
   }
  },
  {
   "cell_type": "markdown",
   "source": [
    "As I am getting posts from non english speaking subreddits I can see potential issues in getting sentiment scores. I am going to use google translate to change the titles to be all in english."
   ],
   "metadata": {
    "collapsed": false
   }
  },
  {
   "cell_type": "code",
   "execution_count": 183,
   "outputs": [
    {
     "data": {
      "text/plain": "  Subreddit                                              Title\n0    france      Need help to find a french real estate agency\n1    france                             A bit of a cute story.\n2    france  Mesmerizing sun-and-grape mosaic roundel from ...\n3    france  The Inquiring Photographer 100 years ago asked...\n4    france  Questions about the real estate wealth tax on ...",
      "text/html": "<div>\n<style scoped>\n    .dataframe tbody tr th:only-of-type {\n        vertical-align: middle;\n    }\n\n    .dataframe tbody tr th {\n        vertical-align: top;\n    }\n\n    .dataframe thead th {\n        text-align: right;\n    }\n</style>\n<table border=\"1\" class=\"dataframe\">\n  <thead>\n    <tr style=\"text-align: right;\">\n      <th></th>\n      <th>Subreddit</th>\n      <th>Title</th>\n    </tr>\n  </thead>\n  <tbody>\n    <tr>\n      <th>0</th>\n      <td>france</td>\n      <td>Need help to find a french real estate agency</td>\n    </tr>\n    <tr>\n      <th>1</th>\n      <td>france</td>\n      <td>A bit of a cute story.</td>\n    </tr>\n    <tr>\n      <th>2</th>\n      <td>france</td>\n      <td>Mesmerizing sun-and-grape mosaic roundel from ...</td>\n    </tr>\n    <tr>\n      <th>3</th>\n      <td>france</td>\n      <td>The Inquiring Photographer 100 years ago asked...</td>\n    </tr>\n    <tr>\n      <th>4</th>\n      <td>france</td>\n      <td>Questions about the real estate wealth tax on ...</td>\n    </tr>\n  </tbody>\n</table>\n</div>"
     },
     "execution_count": 183,
     "metadata": {},
     "output_type": "execute_result"
    }
   ],
   "source": [
    "for i, title in enumerate(data['Title']):\n",
    "\n",
    "    translation = GoogleTranslator(source='auto', target='en').translate(title)\n",
    "\n",
    "    data.loc[i, 'Title'] = translation\n",
    "\n",
    "data.head(20)"
   ],
   "metadata": {
    "collapsed": false
   }
  },
  {
   "cell_type": "code",
   "execution_count": 184,
   "outputs": [
    {
     "data": {
      "text/plain": "  Subreddit                                              Title    neg    neu   \n0    france      Need help to find a french real estate agency  0.000  0.722  \\\n1    france                             A bit of a cute story.  0.000  0.500   \n2    france  Mesmerizing sun-and-grape mosaic roundel from ...  0.000  1.000   \n3    france  The Inquiring Photographer 100 years ago asked...  0.128  0.872   \n4    france  Questions about the real estate wealth tax on ...  0.000  0.758   \n\n     pos  compound  \n0  0.278    0.4019  \n1  0.500    0.4588  \n2  0.000    0.0000  \n3  0.000   -0.4215  \n4  0.242    0.4939  ",
      "text/html": "<div>\n<style scoped>\n    .dataframe tbody tr th:only-of-type {\n        vertical-align: middle;\n    }\n\n    .dataframe tbody tr th {\n        vertical-align: top;\n    }\n\n    .dataframe thead th {\n        text-align: right;\n    }\n</style>\n<table border=\"1\" class=\"dataframe\">\n  <thead>\n    <tr style=\"text-align: right;\">\n      <th></th>\n      <th>Subreddit</th>\n      <th>Title</th>\n      <th>neg</th>\n      <th>neu</th>\n      <th>pos</th>\n      <th>compound</th>\n    </tr>\n  </thead>\n  <tbody>\n    <tr>\n      <th>0</th>\n      <td>france</td>\n      <td>Need help to find a french real estate agency</td>\n      <td>0.000</td>\n      <td>0.722</td>\n      <td>0.278</td>\n      <td>0.4019</td>\n    </tr>\n    <tr>\n      <th>1</th>\n      <td>france</td>\n      <td>A bit of a cute story.</td>\n      <td>0.000</td>\n      <td>0.500</td>\n      <td>0.500</td>\n      <td>0.4588</td>\n    </tr>\n    <tr>\n      <th>2</th>\n      <td>france</td>\n      <td>Mesmerizing sun-and-grape mosaic roundel from ...</td>\n      <td>0.000</td>\n      <td>1.000</td>\n      <td>0.000</td>\n      <td>0.0000</td>\n    </tr>\n    <tr>\n      <th>3</th>\n      <td>france</td>\n      <td>The Inquiring Photographer 100 years ago asked...</td>\n      <td>0.128</td>\n      <td>0.872</td>\n      <td>0.000</td>\n      <td>-0.4215</td>\n    </tr>\n    <tr>\n      <th>4</th>\n      <td>france</td>\n      <td>Questions about the real estate wealth tax on ...</td>\n      <td>0.000</td>\n      <td>0.758</td>\n      <td>0.242</td>\n      <td>0.4939</td>\n    </tr>\n  </tbody>\n</table>\n</div>"
     },
     "execution_count": 184,
     "metadata": {},
     "output_type": "execute_result"
    }
   ],
   "source": [
    "s = SentimentIntensityAnalyzer()\n",
    "\n",
    "res = data['Title'].apply(lambda x: pd.Series(s.polarity_scores(x)))\n",
    "\n",
    "data = pd.concat([data, res], axis=1)\n",
    "\n",
    "data.head()"
   ],
   "metadata": {
    "collapsed": false
   }
  }
 ],
 "metadata": {
  "kernelspec": {
   "display_name": "Python 3",
   "language": "python",
   "name": "python3"
  },
  "language_info": {
   "codemirror_mode": {
    "name": "ipython",
    "version": 2
   },
   "file_extension": ".py",
   "mimetype": "text/x-python",
   "name": "python",
   "nbconvert_exporter": "python",
   "pygments_lexer": "ipython2",
   "version": "2.7.6"
  }
 },
 "nbformat": 4,
 "nbformat_minor": 0
}
