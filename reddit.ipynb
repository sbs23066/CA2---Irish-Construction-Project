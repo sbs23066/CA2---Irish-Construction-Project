{
 "cells": [
  {
   "cell_type": "markdown",
   "source": [
    "# Reddit API Script to collect posts and perform sentiment analysis"
   ],
   "metadata": {
    "collapsed": false
   }
  },
  {
   "cell_type": "code",
   "execution_count": 3,
   "outputs": [],
   "source": [
    "import pandas as pd\n",
    "import numpy as np\n",
    "\n",
    "import time\n",
    "from datetime import datetime\n",
    "\n",
    "import praw # reddit API crawler\n",
    "\n",
    "import nltk # Sentiment analysis module\n",
    "from nltk.sentiment.vader import SentimentIntensityAnalyzer\n",
    "from nltk.tokenize import word_tokenize, RegexpTokenizer\n",
    "from nltk.corpus import stopwords\n",
    "\n",
    "import matplotlib.pyplot as plt\n",
    "\n",
    "import sys\n",
    "import os\n",
    "import csv\n",
    "\n",
    "from deep_translator import GoogleTranslator"
   ],
   "metadata": {
    "collapsed": false
   }
  },
  {
   "cell_type": "markdown",
   "source": [
    "Only need to run this for first run, it downloads the VADER lexicon, punkt tokenizer and stop word library"
   ],
   "metadata": {
    "collapsed": false
   }
  },
  {
   "cell_type": "code",
   "execution_count": 113,
   "outputs": [],
   "source": [
    "\n",
    "def downloadNLTK():\n",
    "\n",
    "    nltk.download('vader_lexicon')  # get lexicons data\n",
    "    nltk.download('punkt')  # for tokenizer\n",
    "    nltk.download('stopwords')\n",
    "\n",
    "#downloadNLTK()"
   ],
   "metadata": {
    "collapsed": false
   }
  },
  {
   "cell_type": "markdown",
   "source": [
    "Credentials for Reddit API"
   ],
   "metadata": {
    "collapsed": false
   }
  },
  {
   "cell_type": "code",
   "execution_count": 114,
   "outputs": [],
   "source": [
    "username = 'balackdynamite' # Personal Reddit Account\n",
    "id = 'RcSucsCZw-A0pEmsaaqaQA'\n",
    "secret = 'oIF0qAUUXuh9QtbsgOJwwQM9j4vJLw'"
   ],
   "metadata": {
    "collapsed": false
   }
  },
  {
   "cell_type": "markdown",
   "source": [
    "As I am getting posts from non english speaking subreddits I can see potential issues in getting sentiment scores. I am going to use google translate to change the titles to be all in english."
   ],
   "metadata": {
    "collapsed": false
   }
  },
  {
   "cell_type": "code",
   "execution_count": 115,
   "outputs": [],
   "source": [
    "def translateText(data,lang='en'):\n",
    "\n",
    "    try:\n",
    "        translation = GoogleTranslator(source='auto', target=lang).translate(data)\n",
    "\n",
    "    except:\n",
    "        translation = data\n",
    "\n",
    "    if translation == None:\n",
    "        return data\n",
    "\n",
    "    else:\n",
    "        return translation"
   ],
   "metadata": {
    "collapsed": false
   }
  },
  {
   "cell_type": "markdown",
   "source": [
    "I also would like to tokenize my titles and remove stop words to help imrpve the accuracy of sentiment scores"
   ],
   "metadata": {
    "collapsed": false
   }
  },
  {
   "cell_type": "code",
   "execution_count": 116,
   "outputs": [],
   "source": [
    "def listToString(s):\n",
    "    str1 = \" \"\n",
    "    return (str1.join(s))"
   ],
   "metadata": {
    "collapsed": false
   }
  },
  {
   "cell_type": "code",
   "execution_count": 117,
   "outputs": [],
   "source": [
    "def cleanText(text):\n",
    "\n",
    "    stop_words = stopwords.words('english') # stop words from nltk module\n",
    "\n",
    "    text = text.replace(\"'\", \"\").replace(\"-\", \"\").lower() # removing quotes and dashes\n",
    "\n",
    "    tk = nltk.tokenize.RegexpTokenizer(r'\\w+') #split up text into words\n",
    "    tokens = tk.tokenize(text)\n",
    "\n",
    "    words = [w for w in tokens if not w in stop_words]\n",
    "\n",
    "    text = listToString(words) # convert back to string sentence\n",
    "\n",
    "    return text"
   ],
   "metadata": {
    "collapsed": false
   }
  },
  {
   "cell_type": "code",
   "execution_count": 118,
   "outputs": [],
   "source": [
    "def dataframeSentiment(data):\n",
    "\n",
    "    s = SentimentIntensityAnalyzer()\n",
    "\n",
    "    res = data['Title'].apply(lambda x: pd.Series(s.polarity_scores(x)))\n",
    "\n",
    "    data = pd.concat([data, res], axis=1)\n",
    "\n",
    "    return data"
   ],
   "metadata": {
    "collapsed": false
   }
  },
  {
   "cell_type": "markdown",
   "source": [
    "Threshold values need to be selected to classify the titels into labels: Positive, Negative and Neutral\n",
    "\n",
    "From research a value of 0.05 is typically used as optimal: https://www.researchgate.net/figure/Typical-threshold-values-used-in-VADER-20_fig5_350761338\n"
   ],
   "metadata": {
    "collapsed": false
   }
  },
  {
   "cell_type": "code",
   "execution_count": 119,
   "outputs": [],
   "source": [
    "def dataframeSentimentLabel(data,threshold=0.05):\n",
    "\n",
    "    conditions = [\n",
    "        (data['compound'] <= -threshold),\n",
    "        (data['compound'] > -threshold) & (data['compound'] < threshold),\n",
    "        (data['compound'] >= threshold),\n",
    "        ]\n",
    "\n",
    "    values = [\"neg\", \"neu\", \"pos\"]\n",
    "    data['label'] = np.select(conditions, values)\n",
    "\n",
    "    return data"
   ],
   "metadata": {
    "collapsed": false
   }
  },
  {
   "cell_type": "code",
   "execution_count": 120,
   "outputs": [],
   "source": [
    "def sentimentAnalysis(data):\n",
    "\n",
    "    data = dataframeSentiment(data)\n",
    "\n",
    "    data = dataframeSentimentLabel(data)\n",
    "\n",
    "    return data"
   ],
   "metadata": {
    "collapsed": false
   }
  },
  {
   "cell_type": "markdown",
   "source": [
    "Initial Test of scraping post titles using the Reddit API"
   ],
   "metadata": {
    "collapsed": false
   }
  },
  {
   "cell_type": "markdown",
   "source": [
    "subreddit = 'ireland' # subreddit we want to scrape\n",
    "postLimit = 10 # the amount of posts we want, None = All of them\n",
    "\n",
    "subreddit = r.subreddit(subreddit)\n",
    "\n",
    "posts = [*subreddit.top(limit=postLimit)] # top posts all time\n",
    "\n",
    "titles = [posts.title for posts in posts] # list of title of posts\n",
    "\n",
    "posts = pd.DataFrame({\"title\": titles,})\n",
    "\n",
    "posts.head()"
   ],
   "metadata": {
    "collapsed": false
   }
  },
  {
   "cell_type": "code",
   "execution_count": 121,
   "outputs": [
    {
     "name": "stdout",
     "output_type": "stream",
     "text": [
      "Running analysis on 4634 posts with a limit of 150 took 1242.1639261 seconds\n"
     ]
    }
   ],
   "source": [
    "keywords = ['housing market', 'housing', 'property', 'real estate', 'construction', 'building', 'infrastructure', 'labor', 'wages']\n",
    "subredditList = ['ireland', 'europe', 'germany', 'france']\n",
    "#postLimit = int(1000/len(subredditList)) # 1000 is the max value allowed by Reddit API, so divide the limit by N number of subreddits to be searched\n",
    "postLimit = 10 # 1000 is the max value allowed by Reddit API\n",
    "\n",
    "startTime = time.time_ns()\n",
    "\n",
    "cols = [\"Subreddit\",'Original Title',\"Title\"]\n",
    "cols += keywords\n",
    "\n",
    "germanKeywords = [translateText(word,'de') for word in keywords ]\n",
    "\n",
    "frenchKeywords = [translateText(word,'fr') for word in keywords ]\n",
    "\n",
    "keywordsMatch = keywords + germanKeywords + frenchKeywords\n",
    "\n",
    "# keywordsMatch = [word for word in keywordsMatch if word is not None] # remove invalid translations - None types\n",
    "\n",
    "data = pd.DataFrame(columns = cols)\n",
    "\n",
    "for subreddit in subredditList:\n",
    "\n",
    "    r = praw.Reddit(user_agent=username,\n",
    "                client_id=id,\n",
    "                client_secret=secret,\n",
    "                check_for_async=False)\n",
    "\n",
    "    s = r.subreddit(subreddit)\n",
    "\n",
    "    for w in keywords:\n",
    "\n",
    "        for submission in s.search(w, limit=postLimit):\n",
    "\n",
    "            created = datetime.utcfromtimestamp(submission.created_utc).year\n",
    "            submission = submission.title\n",
    "\n",
    "\n",
    "            ogTitle = submission\n",
    "\n",
    "            #print(ogTitle)\n",
    "\n",
    "            submission = translateText(submission) # translate titles to english\n",
    "\n",
    "            #print(f\"After Translate: {submission}\")\n",
    "\n",
    "            submission = cleanText(submission) # function to tokenize, remove stop words and make sentence\n",
    "\n",
    "            #print(f\"After Clean Text: {submission}\")\n",
    "\n",
    "            row = {'Subreddit': subreddit,\n",
    "                   'Original Title': ogTitle,\n",
    "                   'Title': submission,\n",
    "                   'Created':created}\n",
    "\n",
    "            match = 0\n",
    "\n",
    "            for keyword in keywordsMatch:\n",
    "\n",
    "                if keyword in ogTitle.lower():\n",
    "                    match = 1\n",
    "                    row['Match'] = match\n",
    "                else:\n",
    "                    match = 0\n",
    "\n",
    "                if keyword in germanKeywords:\n",
    "\n",
    "                    position = germanKeywords.index(keyword)\n",
    "                    word = keywords[position] # take the english word for it\n",
    "\n",
    "                    if word in row:\n",
    "\n",
    "                        if row[word] == 1: # already have a match for that word in this title\n",
    "                            continue\n",
    "\n",
    "                elif keyword in frenchKeywords:\n",
    "\n",
    "                    position = frenchKeywords.index(keyword)\n",
    "                    word = keywords[position]\n",
    "\n",
    "                    if word in row:\n",
    "\n",
    "                        if row[word] == 1:\n",
    "                            continue\n",
    "\n",
    "                else:\n",
    "                    word = keyword\n",
    "\n",
    "                row[word] = match\n",
    "\n",
    "                if match ==1 :\n",
    "                    #print(f'Title: {ogTitle.lower()} found {word}')\n",
    "                    pass\n",
    "\n",
    "            data = pd.concat([data, pd.DataFrame([row])], ignore_index=True)\n",
    "\n",
    "data = sentimentAnalysis(data) # function gets sentiment scores and labels them based on threshold value\n",
    "\n",
    "endTime = time.time_ns()\n",
    "\n",
    "runTimeSeconds = int(endTime - startTime)/1000000000\n",
    "\n",
    "print(f'Running analysis on {len(data)} posts with a limit of {postLimit} took {runTimeSeconds} seconds')\n"
   ],
   "metadata": {
    "collapsed": false
   }
  },
  {
   "cell_type": "markdown",
   "source": [
    "Time analysis data from trial and error:\n",
    "\n",
    "Running analysis on 6579 posts with a limit of 500 took 1851.6176345 seconds\n",
    "Running analysis on 3325 posts with a limit of 100 took 883.0920258 seconds\n",
    "\n"
   ],
   "metadata": {
    "collapsed": false
   }
  },
  {
   "cell_type": "code",
   "execution_count": 122,
   "outputs": [],
   "source": [
    "filename = 'EfficiencyredditAPI.csv'\n",
    "exists = os.path.isfile(filename)\n",
    "\n",
    "with open(filename, 'a', newline='') as file:\n",
    "    writer = csv.writer(file)\n",
    "\n",
    "    if not exists:\n",
    "        headers = ['Posts', 'Limit', 'Duration']\n",
    "        writer.writerow(headers)\n",
    "\n",
    "    # Append latest values\n",
    "    latest_values = [len(data), postLimit, runTimeSeconds]\n",
    "    writer.writerow(latest_values)"
   ],
   "metadata": {
    "collapsed": false
   }
  },
  {
   "cell_type": "markdown",
   "source": [
    "Exporting to file and using the current datetime to timestamp it, this ensures each file is unique in value as the frequency of running this is greater than 1 minute naturally, if this was scaled up to run asynchronously and in millisecond time we'd need to optimize the code and file name structure."
   ],
   "metadata": {
    "collapsed": false
   }
  },
  {
   "cell_type": "code",
   "execution_count": 123,
   "outputs": [],
   "source": [
    "now = datetime.now().replace(microsecond=0)\n",
    "\n",
    "fileName = 'redditSentiment-' + str(now).replace(\":\",\"-\") + '.csv'\n",
    "\n",
    "data.to_csv(fileName,index=False)"
   ],
   "metadata": {
    "collapsed": false
   }
  },
  {
   "cell_type": "markdown",
   "source": [
    "Charts for Sentiment Analysis and Time Analysis"
   ],
   "metadata": {
    "collapsed": false
   }
  },
  {
   "cell_type": "code",
   "execution_count": 1,
   "outputs": [
    {
     "ename": "NameError",
     "evalue": "name 'pd' is not defined",
     "output_type": "error",
     "traceback": [
      "\u001B[1;31m---------------------------------------------------------------------------\u001B[0m",
      "\u001B[1;31mNameError\u001B[0m                                 Traceback (most recent call last)",
      "Cell \u001B[1;32mIn[1], line 3\u001B[0m\n\u001B[0;32m      1\u001B[0m filename \u001B[38;5;241m=\u001B[39m \u001B[38;5;124m'\u001B[39m\u001B[38;5;124mfinalRedditSentiment.csv\u001B[39m\u001B[38;5;124m'\u001B[39m\n\u001B[1;32m----> 3\u001B[0m df \u001B[38;5;241m=\u001B[39m \u001B[43mpd\u001B[49m\u001B[38;5;241m.\u001B[39mread_csv(filename)\n\u001B[0;32m      5\u001B[0m df\u001B[38;5;241m.\u001B[39mhead()\n",
      "\u001B[1;31mNameError\u001B[0m: name 'pd' is not defined"
     ]
    }
   ],
   "source": [
    "\n",
    "filename = 'finalRedditSentiment.csv'\n",
    "\n",
    "df = pd.read_csv(filename)\n",
    "\n",
    "df.head()"
   ],
   "metadata": {
    "collapsed": false
   }
  },
  {
   "cell_type": "code",
   "execution_count": null,
   "outputs": [],
   "source": [
    "topic_columns = ['housing market', 'housing', 'property', 'real estate', 'construction', 'building', 'infrastructure', 'labor', 'wages']\n",
    "\n",
    "sentiment_count = pd.DataFrame(columns=['topic', 'neg', 'neu', 'pos'])\n",
    "\n",
    "for column in topic_columns:\n",
    "    sentiment_df = df[df[column]==1]\n",
    "\n",
    "    neg_count = sentiment_df['label'].value_counts().get('neg', 0)\n",
    "    neu_count = sentiment_df['label'].value_counts().get('neu', 0)\n",
    "    pos_count = sentiment_df['label'].value_counts().get('pos', 0)\n",
    "\n",
    "    new_row_data = {\n",
    "        'topic': [column],\n",
    "        'neg': [neg_count],\n",
    "        'neu': [neu_count],\n",
    "        'pos': [pos_count]\n",
    "    }\n",
    "\n",
    "    new_row = pd.DataFrame(new_row_data)\n",
    "\n",
    "    sentiment_count = pd.concat([sentiment_count, new_row], ignore_index=True)\n",
    "\n",
    "sentiment_count.set_index('topic').plot(kind='bar')\n",
    "plt.title('Sentiment Count by Topic')\n",
    "plt.xlabel('Topic')\n",
    "plt.ylabel('Count')\n",
    "plt.show()"
   ],
   "metadata": {
    "collapsed": false
   }
  },
  {
   "cell_type": "code",
   "execution_count": null,
   "outputs": [],
   "source": [
    "topic_columns = ['housing market', 'housing', 'property', 'real estate', 'construction', 'building', 'infrastructure', 'labor', 'wages']\n",
    "\n",
    "for column in topic_columns:\n",
    "    sentiment_count = pd.DataFrame(columns=['subreddit', 'neg', 'neu', 'pos'])\n",
    "    topic_df = df[df[column]==1]\n",
    "    for subreddit in topic_df['Subreddit'].unique():\n",
    "        sentiment_df = topic_df[topic_df['Subreddit'] == subreddit]\n",
    "        new_row = pd.DataFrame({'subreddit': [subreddit],\n",
    "                                'neg': [sentiment_df['label'].value_counts().get('neg', 0)],\n",
    "                                'neu': [sentiment_df['label'].value_counts().get('neu', 0)],\n",
    "                                'pos': [sentiment_df['label'].value_counts().get('pos', 0)]})\n",
    "        sentiment_count = pd.concat([sentiment_count, new_row], ignore_index=True)\n",
    "    sentiment_count.set_index('subreddit').plot(kind='bar')\n",
    "    plt.title(f'Sentiment Count for topic {column}')\n",
    "    plt.xlabel('Subreddit')\n",
    "    plt.ylabel('Count')\n",
    "    plt.show()"
   ],
   "metadata": {
    "collapsed": false
   }
  },
  {
   "cell_type": "code",
   "execution_count": null,
   "outputs": [],
   "source": [
    "\n",
    "df['Year'] = df['Created'].astype(int)\n",
    "\n",
    "sentiment_mapping = {'neg': -1, 'neu': 0, 'pos': 1}\n",
    "df['sentiment_value'] = df['label'].map(sentiment_mapping)\n",
    "\n",
    "topic_columns = ['housing market', 'housing', 'property', 'real estate', 'construction', 'building', 'infrastructure', 'labor', 'wages']\n",
    "\n",
    "#average sentiment for each topic by year\n",
    "for column in topic_columns:\n",
    "    topic_df = df[df[column] == 1]\n",
    "    avg_sentiment_by_year = topic_df.groupby('Year')['sentiment_value'].mean()\n",
    "\n",
    "    avg_sentiment_by_year.plot()\n",
    "    plt.title(f'Average Sentiment for {column} Over Years')\n",
    "    plt.xlabel('Year')\n",
    "    plt.ylabel('Average Sentiment')\n",
    "    plt.show()"
   ],
   "metadata": {
    "collapsed": false
   }
  },
  {
   "cell_type": "markdown",
   "source": [
    "## Efficiency of Reddit API"
   ],
   "metadata": {
    "collapsed": false
   }
  },
  {
   "cell_type": "code",
   "execution_count": 4,
   "outputs": [
    {
     "data": {
      "text/plain": "   Posts  Limit     Duration\n0    360     10   168.130527\n1   3326    100   914.333998\n2   3325    100   883.090000\n3   6579    500  1851.617000\n4   6583   1000  1851.055285",
      "text/html": "<div>\n<style scoped>\n    .dataframe tbody tr th:only-of-type {\n        vertical-align: middle;\n    }\n\n    .dataframe tbody tr th {\n        vertical-align: top;\n    }\n\n    .dataframe thead th {\n        text-align: right;\n    }\n</style>\n<table border=\"1\" class=\"dataframe\">\n  <thead>\n    <tr style=\"text-align: right;\">\n      <th></th>\n      <th>Posts</th>\n      <th>Limit</th>\n      <th>Duration</th>\n    </tr>\n  </thead>\n  <tbody>\n    <tr>\n      <th>0</th>\n      <td>360</td>\n      <td>10</td>\n      <td>168.130527</td>\n    </tr>\n    <tr>\n      <th>1</th>\n      <td>3326</td>\n      <td>100</td>\n      <td>914.333998</td>\n    </tr>\n    <tr>\n      <th>2</th>\n      <td>3325</td>\n      <td>100</td>\n      <td>883.090000</td>\n    </tr>\n    <tr>\n      <th>3</th>\n      <td>6579</td>\n      <td>500</td>\n      <td>1851.617000</td>\n    </tr>\n    <tr>\n      <th>4</th>\n      <td>6583</td>\n      <td>1000</td>\n      <td>1851.055285</td>\n    </tr>\n  </tbody>\n</table>\n</div>"
     },
     "execution_count": 4,
     "metadata": {},
     "output_type": "execute_result"
    }
   ],
   "source": [
    "filename = 'EfficiencyredditAPI.csv'\n",
    "\n",
    "df = pd.read_csv(filename)\n",
    "\n",
    "df.head()"
   ],
   "metadata": {
    "collapsed": false
   }
  },
  {
   "cell_type": "code",
   "execution_count": 5,
   "outputs": [
    {
     "data": {
      "text/plain": "<Figure size 1000x600 with 1 Axes>",
      "image/png": "[encoded data removed]"
     },
     "metadata": {},
     "output_type": "display_data"
    }
   ],
   "source": [
    "df = df.sort_values('Duration')\n",
    "\n",
    "plt.figure(figsize=(10, 6))\n",
    "plt.plot(df['Duration'], df['Posts'], marker='o')\n",
    "plt.title('Increase in Posts by Duration')\n",
    "plt.xlabel('Duration (seconds)')\n",
    "plt.ylabel('Number of Posts')\n",
    "plt.grid(True)\n",
    "plt.show()"
   ],
   "metadata": {
    "collapsed": false
   }
  },
  {
   "cell_type": "code",
   "execution_count": 6,
   "outputs": [
    {
     "name": "stdout",
     "output_type": "stream",
     "text": [
      "The rate of increase in Duration is 3.698 posts per second\n"
     ]
    }
   ],
   "source": [
    "slope, intercept = np.polyfit(df['Duration'], df['Posts'], 1)\n",
    "\n",
    "print(f\"The rate of increase in Duration is {round(slope,3)} posts per second\")"
   ],
   "metadata": {
    "collapsed": false
   }
  },
  {
   "cell_type": "code",
   "execution_count": null,
   "outputs": [],
   "source": [],
   "metadata": {
    "collapsed": false
   }
  }
 ],
 "metadata": {
  "kernelspec": {
   "display_name": "Python 3",
   "language": "python",
   "name": "python3"
  },
  "language_info": {
   "codemirror_mode": {
    "name": "ipython",
    "version": 2
   },
   "file_extension": ".py",
   "mimetype": "text/x-python",
   "name": "python",
   "nbconvert_exporter": "python",
   "pygments_lexer": "ipython2",
   "version": "2.7.6"
  }
 },
 "nbformat": 4,
 "nbformat_minor": 0
}
