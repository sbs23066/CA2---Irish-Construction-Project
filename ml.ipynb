{
 "cells": [
  {
   "cell_type": "code",
   "execution_count": 39,
   "metadata": {
    "collapsed": true
   },
   "outputs": [],
   "source": [
    "from statsmodels.tsa.arima.model import ARIMA\n",
    "from sklearn.metrics import mean_squared_error\n",
    "from math import sqrt\n",
    "import pandas as pd\n",
    "import numpy as np\n",
    "import warnings\n",
    "\n",
    "warnings.filterwarnings('ignore') # Ignoring warnings to keep notebook clean and concise\n",
    "random_state = 0 # Setting a random state variable to keep all results consistent"
   ]
  },
  {
   "cell_type": "code",
   "execution_count": 40,
   "outputs": [],
   "source": [
    "gfcf = pd.read_csv('Transformed Data/GFCF.csv')\n",
    "\n",
    "gfcf['Year'] = pd.to_datetime(gfcf['Year'], format='%Y')\n",
    "\n",
    "gfcf.set_index('Year', inplace=True)"
   ],
   "metadata": {
    "collapsed": false
   }
  },
  {
   "cell_type": "code",
   "execution_count": 41,
   "outputs": [],
   "source": [
    "def arima_model(df, order):\n",
    "    model = ARIMA(df, order=order)\n",
    "    model_fit = model.fit(disp=False)\n",
    "    return model_fit"
   ],
   "metadata": {
    "collapsed": false
   }
  },
  {
   "cell_type": "code",
   "execution_count": 42,
   "outputs": [],
   "source": [
    "def arima_grid_search(df, p_values, d_values, q_values):\n",
    "    best_score, best_order = float(\"inf\"), None\n",
    "    for p in p_values:\n",
    "        for d in d_values:\n",
    "            for q in q_values:\n",
    "                try:\n",
    "                    model = arima_model(df, (p,d,q))\n",
    "                    mse = mean_squared_error(df, model.fittedvalues)\n",
    "                    rmse = sqrt(mse)\n",
    "                    if rmse < best_score:\n",
    "                        best_score, best_order = rmse, (p,d,q)\n",
    "                except:\n",
    "                    continue\n",
    "    return best_score, best_order"
   ],
   "metadata": {
    "collapsed": false
   }
  },
  {
   "cell_type": "code",
   "execution_count": 43,
   "outputs": [],
   "source": [
    "def preprocess_data(df):\n",
    "    return np.log(df)"
   ],
   "metadata": {
    "collapsed": false
   }
  },
  {
   "cell_type": "code",
   "execution_count": 44,
   "outputs": [
    {
     "name": "stdout",
     "output_type": "stream",
     "text": [
      "Country: Austria\n",
      "Datapoints:8\n",
      "Best ARIMANone RMSE=inf\n",
      "\n",
      "Country: Switzerland\n",
      "Datapoints:7\n",
      "Best ARIMANone RMSE=inf\n",
      "\n",
      "Country: Cyprus\n",
      "Datapoints:8\n",
      "Best ARIMANone RMSE=inf\n",
      "\n",
      "Country: Germany\n",
      "Datapoints:8\n",
      "Best ARIMANone RMSE=inf\n",
      "\n",
      "Country: Denmark\n",
      "Datapoints:8\n",
      "Best ARIMANone RMSE=inf\n",
      "\n",
      "Country: Estonia\n",
      "Datapoints:8\n",
      "Best ARIMANone RMSE=inf\n",
      "\n",
      "Country: Greece\n",
      "Datapoints:8\n",
      "Best ARIMANone RMSE=inf\n",
      "\n",
      "Country: Spain\n",
      "Datapoints:8\n",
      "Best ARIMANone RMSE=inf\n",
      "\n",
      "Country: Finland\n",
      "Datapoints:8\n",
      "Best ARIMANone RMSE=inf\n",
      "\n",
      "Country: France\n",
      "Datapoints:8\n",
      "Best ARIMANone RMSE=inf\n",
      "\n",
      "Country: Croatia\n",
      "Datapoints:8\n",
      "Best ARIMANone RMSE=inf\n",
      "\n",
      "Country: Hungary\n",
      "Datapoints:8\n",
      "Best ARIMANone RMSE=inf\n",
      "\n",
      "Country: Ireland\n",
      "Datapoints:8\n",
      "Best ARIMANone RMSE=inf\n",
      "\n",
      "Country: Iceland\n",
      "Datapoints:8\n",
      "Best ARIMANone RMSE=inf\n",
      "\n",
      "Country: Italy\n",
      "Datapoints:8\n",
      "Best ARIMANone RMSE=inf\n",
      "\n",
      "Country: Lithuania\n",
      "Datapoints:8\n",
      "Best ARIMANone RMSE=inf\n",
      "\n",
      "Country: Luxembourg\n",
      "Datapoints:8\n",
      "Best ARIMANone RMSE=inf\n",
      "\n",
      "Country: Latvia\n",
      "Datapoints:8\n",
      "Best ARIMANone RMSE=inf\n",
      "\n",
      "Country: Malta\n",
      "Datapoints:8\n",
      "Best ARIMANone RMSE=inf\n",
      "\n",
      "Country: Netherlands\n",
      "Datapoints:8\n",
      "Best ARIMANone RMSE=inf\n",
      "\n",
      "Country: Norway\n",
      "Datapoints:8\n",
      "Best ARIMANone RMSE=inf\n",
      "\n",
      "Country: Poland\n",
      "Datapoints:8\n",
      "Best ARIMANone RMSE=inf\n",
      "\n",
      "Country: Portugal\n",
      "Datapoints:8\n",
      "Best ARIMANone RMSE=inf\n",
      "\n",
      "Country: Romania\n",
      "Datapoints:8\n",
      "Best ARIMANone RMSE=inf\n",
      "\n",
      "Country: Sweden\n",
      "Datapoints:8\n",
      "Best ARIMANone RMSE=inf\n",
      "\n",
      "Country: Slovenia\n",
      "Datapoints:8\n",
      "Best ARIMANone RMSE=inf\n",
      "\n",
      "Country: Slovakia\n",
      "Datapoints:8\n",
      "Best ARIMANone RMSE=inf\n",
      "\n",
      "Country: United Kingdom\n",
      "Datapoints:5\n",
      "Best ARIMANone RMSE=inf\n",
      "\n"
     ]
    }
   ],
   "source": [
    "p_values = [0, 1, 2, 3]\n",
    "d_values = [0, 1, 2, 3]\n",
    "q_values = [0, 1, 2, 3]\n",
    "\n",
    "# Perform grid search for each country\n",
    "countries = gfcf['Country'].unique()\n",
    "for country in countries:\n",
    "    print(f'Country: {country}')\n",
    "    df_country = preprocess_data(gfcf[gfcf['Country'] == country]['Construction Value'])\n",
    "    print(f'Datapoints:{len(df_country)}')\n",
    "    best_score, best_order = arima_grid_search(df_country, p_values, d_values, q_values)\n",
    "    print(f'Best ARIMA{best_order} RMSE={best_score}\\n')"
   ],
   "metadata": {
    "collapsed": false
   }
  },
  {
   "cell_type": "code",
   "execution_count": 46,
   "outputs": [
    {
     "name": "stdout",
     "output_type": "stream",
     "text": [
      "      Year  Percent GDP         Country\n",
      "0     1996          6.9         Albania\n",
      "1     1997          6.4         Albania\n",
      "2     1998          7.1         Albania\n",
      "3     1999          7.3         Albania\n",
      "4     2000         10.3         Albania\n",
      "...    ...          ...             ...\n",
      "2141  2015          9.7  United Kingdom\n",
      "2142  2016          9.8  United Kingdom\n",
      "2143  2017         10.0  United Kingdom\n",
      "2144  2018         10.1  United Kingdom\n",
      "2145  2019         10.4  United Kingdom\n",
      "\n",
      "[2146 rows x 3 columns]\n"
     ]
    }
   ],
   "source": [
    "gfcf_gdp = pd.read_csv('Transformed Data/GFCF-ML.csv')\n",
    "\n",
    "print(gfcf_gdp)\n",
    "\n",
    "gfcf_gdp['Year'] = pd.to_datetime(gfcf_gdp['Year'], format='%Y')\n",
    "\n",
    "gfcf_gdp.set_index('Year', inplace=True)\n"
   ],
   "metadata": {
    "collapsed": false
   }
  },
  {
   "cell_type": "code",
   "execution_count": null,
   "outputs": [],
   "source": [],
   "metadata": {
    "collapsed": false
   }
  }
 ],
 "metadata": {
  "kernelspec": {
   "display_name": "Python 3",
   "language": "python",
   "name": "python3"
  },
  "language_info": {
   "codemirror_mode": {
    "name": "ipython",
    "version": 2
   },
   "file_extension": ".py",
   "mimetype": "text/x-python",
   "name": "python",
   "nbconvert_exporter": "python",
   "pygments_lexer": "ipython2",
   "version": "2.7.6"
  }
 },
 "nbformat": 4,
 "nbformat_minor": 0
}
