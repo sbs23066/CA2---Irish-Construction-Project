{
 "cells": [
  {
   "cell_type": "code",
   "execution_count": 332,
   "metadata": {
    "collapsed": true
   },
   "outputs": [],
   "source": [
    "from statsmodels.tsa.arima.model import ARIMA\n",
    "from sklearn.metrics import mean_squared_error\n",
    "from math import sqrt\n",
    "from math import pow\n",
    "import pandas as pd\n",
    "import numpy as np\n",
    "import warnings\n",
    "from sklearn.linear_model import LinearRegression\n",
    "from sklearn.model_selection import train_test_split\n",
    "from sklearn.metrics import mean_squared_error\n",
    "import matplotlib.pyplot as plt\n",
    "import datetime\n",
    "from sklearn.model_selection import GridSearchCV\n",
    "from sklearn.tree import DecisionTreeRegressor\n",
    "from sklearn.ensemble import RandomForestRegressor, GradientBoostingRegressor\n",
    "from sklearn.metrics import mean_squared_error\n",
    "\n",
    "warnings.filterwarnings('ignore') # Ignoring warnings to keep notebook clean and concise\n",
    "random_state = 0 # Setting a random state variable to keep all results consistent"
   ]
  },
  {
   "cell_type": "code",
   "execution_count": null,
   "outputs": [],
   "source": [
    "gfcf = pd.read_csv('Transformed Data/GFCF.csv')\n",
    "\n",
    "gfcf['Year'] = pd.to_datetime(gfcf['Year'], format='%Y')\n",
    "\n",
    "gfcf.set_index('Year', inplace=True)"
   ],
   "metadata": {
    "collapsed": false,
    "pycharm": {
     "is_executing": true
    }
   }
  },
  {
   "cell_type": "code",
   "execution_count": null,
   "outputs": [],
   "source": [
    "def arima_model(df, order):\n",
    "    model = ARIMA(df, order=order)\n",
    "    model_fit = model.fit(disp=False)\n",
    "    return model_fit"
   ],
   "metadata": {
    "collapsed": false,
    "pycharm": {
     "is_executing": true
    }
   }
  },
  {
   "cell_type": "code",
   "execution_count": null,
   "outputs": [],
   "source": [
    "def arima_grid_search(df, p_values, d_values, q_values):\n",
    "    best_score, best_order = float(\"inf\"), None\n",
    "    for p in p_values:\n",
    "        for d in d_values:\n",
    "            for q in q_values:\n",
    "                try:\n",
    "                    model = arima_model(df, (p,d,q))\n",
    "                    mse = mean_squared_error(df, model.fittedvalues)\n",
    "                    rmse = sqrt(mse)\n",
    "                    if rmse < best_score:\n",
    "                        best_score, best_order = rmse, (p,d,q)\n",
    "                except:\n",
    "                    continue\n",
    "    return best_score, best_order"
   ],
   "metadata": {
    "collapsed": false,
    "pycharm": {
     "is_executing": true
    }
   }
  },
  {
   "cell_type": "code",
   "execution_count": null,
   "outputs": [],
   "source": [
    "def preprocess_data(df):\n",
    "    return np.log(df)"
   ],
   "metadata": {
    "collapsed": false,
    "pycharm": {
     "is_executing": true
    }
   }
  },
  {
   "cell_type": "code",
   "execution_count": null,
   "outputs": [],
   "source": [
    "p_values = [0, 1, 2, 3]\n",
    "d_values = [0, 1, 2, 3]\n",
    "q_values = [0, 1, 2, 3]\n",
    "\n",
    "# Perform grid search for each country\n",
    "countries = gfcf['Country'].unique()\n",
    "for country in countries:\n",
    "    print(f'Country: {country}')\n",
    "    df_country = preprocess_data(gfcf[gfcf['Country'] == country]['Construction Value'])\n",
    "    print(f'Datapoints:{len(df_country)}')\n",
    "    best_score, best_order = arima_grid_search(df_country, p_values, d_values, q_values)\n",
    "    print(f'Best ARIMA{best_order} RMSE={best_score}\\n')"
   ],
   "metadata": {
    "collapsed": false,
    "pycharm": {
     "is_executing": true
    }
   }
  },
  {
   "cell_type": "markdown",
   "source": [
    "ARIMA does not seem to be suitable as a prediction model, it seems to not find good values for p,d and q for Arima. This could be due to small datasize, lack of stationality etc."
   ],
   "metadata": {
    "collapsed": false
   }
  },
  {
   "cell_type": "code",
   "execution_count": null,
   "outputs": [],
   "source": [
    "gfcf_gdp = pd.read_csv('Transformed Data/GFCF-ML.csv')\n",
    "\n",
    "gfcf_gdp['Year'] = pd.to_datetime(gfcf_gdp['Year'], format='%Y')\n",
    "\n",
    "data = gfcf_gdp.dropna(axis=0,how='any') # drop empty rows\n",
    "\n",
    "data.head()\n"
   ],
   "metadata": {
    "collapsed": false,
    "pycharm": {
     "is_executing": true
    }
   }
  },
  {
   "cell_type": "code",
   "execution_count": null,
   "outputs": [],
   "source": [
    "countries = data['Country'].unique()\n",
    "country_data = {country: data[data['Country'] == country] for country in countries}"
   ],
   "metadata": {
    "collapsed": false,
    "pycharm": {
     "is_executing": true
    }
   }
  },
  {
   "cell_type": "code",
   "execution_count": null,
   "outputs": [],
   "source": [
    "model_lr = LinearRegression()\n",
    "rmse_scores = 0\n",
    "\n",
    "for country in countries:\n",
    "    # Convert datetime to year (integer)\n",
    "    X = pd.DataFrame(country_data[country]['Year'].dt.year)\n",
    "    y = country_data[country]['Percent GDP']\n",
    "    X_train, X_test, y_train, y_test = train_test_split(X, y, test_size=0.2, random_state=42)\n",
    "\n",
    "    model_lr.fit(X_train, y_train)\n",
    "    predictions = model_lr.predict(X_test)\n",
    "\n",
    "    mse = mean_squared_error(y_test, predictions)\n",
    "    rmse_scores += sqrt(mse)\n",
    "\n",
    "\n",
    "print(f'Average RMSE : {rmse_scores/len(countries)}')\n",
    "print(f'Average MSE : {pow((rmse_scores/len(countries)),2)}')\n"
   ],
   "metadata": {
    "collapsed": false,
    "pycharm": {
     "is_executing": true
    }
   }
  },
  {
   "cell_type": "code",
   "execution_count": null,
   "outputs": [],
   "source": [
    "data['Year'] = pd.DataFrame(data['Year'].dt.year)\n",
    "\n",
    "X = data[['Year', 'Country']]\n",
    "y = data['Percent GDP']\n",
    "\n",
    "# Convert 'Country' to numerical value\n",
    "X = pd.get_dummies(X)\n",
    "\n",
    "# Define models and hyper paramters\n",
    "models = {\n",
    "    'Linear Regression': (LinearRegression(), {}),\n",
    "    'Decision Tree': (DecisionTreeRegressor(), {'max_depth': [None, 5, 10]}),\n",
    "    'Random Forest': (RandomForestRegressor(), {'n_estimators': [100, 200, 300]}),\n",
    "    'Gradient Boosting': (GradientBoostingRegressor(), {'learning_rate': [0.1, 0.05, 0.01]})\n",
    "}\n",
    "\n",
    "# Perform GridSearchCV for each model and print the best parameters and score\n",
    "for name, (model, param_grid) in models.items():\n",
    "    grid_search = GridSearchCV(model, param_grid, cv=5, scoring='neg_mean_squared_error',error_score='raise')\n",
    "    grid_search.fit(X, y)\n",
    "\n",
    "    print(f\"Best parameters for {name}: {grid_search.best_params_}\")\n",
    "    print(f\"Best score for {name}: {-grid_search.best_score_}\\n\")"
   ],
   "metadata": {
    "collapsed": false,
    "pycharm": {
     "is_executing": true
    }
   }
  }
 ],
 "metadata": {
  "kernelspec": {
   "display_name": "Python 3",
   "language": "python",
   "name": "python3"
  },
  "language_info": {
   "codemirror_mode": {
    "name": "ipython",
    "version": 2
   },
   "file_extension": ".py",
   "mimetype": "text/x-python",
   "name": "python",
   "nbconvert_exporter": "python",
   "pygments_lexer": "ipython2",
   "version": "2.7.6"
  }
 },
 "nbformat": 4,
 "nbformat_minor": 0
}
