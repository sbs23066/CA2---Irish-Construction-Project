{
 "cells": [
  {
   "cell_type": "code",
   "execution_count": 109,
   "metadata": {
    "collapsed": true
   },
   "outputs": [],
   "source": [
    "import pandas as pd\n",
    "import numpy as np\n",
    "from datetime import datetime, timedelta\n",
    "import plotly.graph_objects as go\n",
    "import dash\n",
    "import dash_core_components as dcc\n",
    "import dash_html_components as html\n",
    "from dash.dependencies import Input, Output, State\n",
    "import dash_bootstrap_components as dbc"
   ]
  },
  {
   "cell_type": "code",
   "execution_count": 110,
   "outputs": [],
   "source": [
    "def generate_data(num_rows=1000):\n",
    "    np.random.seed(0)\n",
    "    years = np.random.choice(range(2000, 2024), num_rows)\n",
    "    countries = np.random.choice(['Germany', 'France', 'Italy', 'Spain', 'UK', 'Belgium', 'Netherlands', 'Denmark', 'Sweden', 'Norway', 'Finland'], num_rows)\n",
    "    construction_values = np.random.uniform(1000, 50000, num_rows)\n",
    "    labor_wages = np.random.uniform(10, 50, num_rows)\n",
    "    building_costs = np.random.uniform(500, 30000, num_rows)\n",
    "\n",
    "    return pd.DataFrame({'Year': years, 'Country': countries,\n",
    "                         'Construction Value': construction_values,\n",
    "                         'Labor Wages': labor_wages,\n",
    "                         'Building Cost': building_costs})"
   ],
   "metadata": {
    "collapsed": false
   }
  },
  {
   "cell_type": "code",
   "execution_count": 111,
   "outputs": [],
   "source": [
    "df = generate_data()\n",
    "\n",
    "app = dash.Dash(__name__, external_stylesheets=[dbc.themes.CYBORG])"
   ],
   "metadata": {
    "collapsed": false
   }
  },
  {
   "cell_type": "code",
   "execution_count": 112,
   "outputs": [],
   "source": [
    "@app.callback(\n",
    "    Output('scatter-plot', 'figure'),\n",
    "    Input('country-dropdown', 'value')\n",
    ")\n",
    "def update_scatter_plot(countries):\n",
    "    df_filtered = df[df['Country'].isin(countries)]\n",
    "    scatter_plot = go.Scatter(x=df_filtered['Year'],\n",
    "                              y=df_filtered['Construction Value'],\n",
    "                              mode='markers',\n",
    "                              marker=dict(size=10, color='#1E88E5'))\n",
    "    layout = go.Layout(title='Construction Value over Time',\n",
    "                       xaxis=dict(title='Year'),\n",
    "                       yaxis=dict(title='Construction Value'),\n",
    "                       font=dict(family=\"Lato\"),\n",
    "                       plot_bgcolor=\"#242424\",\n",
    "                       paper_bgcolor=\"#242424\",\n",
    "                       font_color=\"#FFFFFF\")\n",
    "    return {'data': [scatter_plot], 'layout': layout}"
   ],
   "metadata": {
    "collapsed": false
   }
  },
  {
   "cell_type": "code",
   "execution_count": 113,
   "outputs": [],
   "source": [
    "@app.callback(\n",
    "    Output('bar-chart', 'figure'),\n",
    "    [Input('year-slider', 'value'), Input('top-10-check', 'value')]\n",
    ")\n",
    "def update_bar_chart(year, top10):\n",
    "    df_filtered = df[df['Year'] == year]\n",
    "    if 'TOP10' in top10:\n",
    "        df_filtered = df_filtered.groupby('Country')['Construction Value'].mean().nlargest(10).reset_index()\n",
    "    else:\n",
    "        df_filtered = df_filtered.groupby('Country')['Construction Value'].mean().reset_index()\n",
    "\n",
    "    bar_chart = go.Bar(x=df_filtered['Country'],\n",
    "                       y=df_filtered['Construction Value'],\n",
    "                       marker=dict(color='#FFC107'))\n",
    "    layout = go.Layout(title=f'Construction Value by Country in {year}',\n",
    "                       xaxis=dict(title='Country'),\n",
    "                       yaxis=dict(title='Construction Value'),\n",
    "                       font=dict(family=\"Lato\"),\n",
    "                       plot_bgcolor=\"#242424\",\n",
    "                       paper_bgcolor=\"#242424\",\n",
    "                       font_color=\"#FFFFFF\")\n",
    "    return {'data': [bar_chart], 'layout': layout}"
   ],
   "metadata": {
    "collapsed": false
   }
  },
  {
   "cell_type": "code",
   "execution_count": 114,
   "outputs": [],
   "source": [
    "@app.callback(\n",
    "    Output('histogram', 'figure'),\n",
    "    Input('country-dropdown', 'value')\n",
    ")\n",
    "def update_histogram(countries):\n",
    "    df_filtered = df[df['Country'].isin(countries)]\n",
    "    histogram = go.Histogram(x=df_filtered['Labor Wages'],\n",
    "                             nbinsx=20,\n",
    "                             marker=dict(color='#00796B'))\n",
    "    layout = go.Layout(title='Distribution of Labor Wages',\n",
    "                       xaxis=dict(title='Labor Wage'),\n",
    "                       yaxis=dict(title='Frequency'),\n",
    "                       font=dict(family=\"Lato\"),\n",
    "                       plot_bgcolor=\"#242424\",\n",
    "                       paper_bgcolor=\"#242424\",\n",
    "                       font_color=\"#FFFFFF\")\n",
    "    return {'data': [histogram], 'layout': layout}"
   ],
   "metadata": {
    "collapsed": false
   }
  },
  {
   "cell_type": "code",
   "execution_count": 115,
   "outputs": [],
   "source": [
    "@app.callback(\n",
    "    Output('pie-chart', 'figure'),\n",
    "    Input('year-slider', 'value')\n",
    ")\n",
    "def update_pie_chart(year):\n",
    "    df_filtered = df[df['Year'] == year]\n",
    "    df_grouped = df_filtered.groupby('Country')['Construction Value'].mean()\n",
    "\n",
    "    pie_chart = go.Pie(labels=df_grouped.index, values=df_grouped.values)\n",
    "    layout = go.Layout(title=f'Average Construction Value by Country in {year}',\n",
    "                       font=dict(family=\"Lato\"),\n",
    "                       plot_bgcolor=\"#242424\",\n",
    "                       paper_bgcolor=\"#242424\",\n",
    "                       font_color=\"#FFFFFF\")\n",
    "    return {'data': [pie_chart], 'layout': layout}"
   ],
   "metadata": {
    "collapsed": false
   }
  },
  {
   "cell_type": "code",
   "execution_count": 116,
   "outputs": [],
   "source": [
    "app.layout = html.Div(children=[\n",
    "    html.H1(\"Construction Dashboard\",\n",
    "            style={'text-align':'center', 'padding':'10px', 'color':'#FFFFFF', 'font-family':'Lato'}),\n",
    "\n",
    "    dbc.Row([\n",
    "        dbc.Col([\n",
    "            dcc.Dropdown(\n",
    "                id='country-dropdown',\n",
    "                options=[\n",
    "                    {'label': country, 'value': country}\n",
    "                    for country in df['Country'].unique()\n",
    "                ],\n",
    "                value=df['Country'].unique().tolist(),\n",
    "                multi=True\n",
    "            ),\n",
    "\n",
    "            dcc.Graph(id='scatter-plot'),\n",
    "        ], md=6),\n",
    "\n",
    "        dbc.Col([\n",
    "            dbc.Checklist(\n",
    "                id='top-10-check',\n",
    "                options=[{'label': 'Top 10 Countries Only', 'value': 'TOP10'}],\n",
    "                value=[]\n",
    "            ),\n",
    "\n",
    "            dcc.Graph(id='bar-chart'),\n",
    "        ], md=6),\n",
    "    ]),\n",
    "\n",
    "    dbc.Row([\n",
    "        dbc.Col([\n",
    "            dcc.Slider(\n",
    "                id='year-slider',\n",
    "                min=df['Year'].min(),\n",
    "                max=df['Year'].max(),\n",
    "                value=df['Year'].min(),\n",
    "                marks={str(year): str(year) for year in df['Year'].unique()},\n",
    "                step=None\n",
    "            ),\n",
    "\n",
    "            dcc.Graph(id='pie-chart'),\n",
    "        ], md=6),\n",
    "\n",
    "        dbc.Col([\n",
    "            dcc.RadioItems(\n",
    "                id='wage-cost-radio',\n",
    "                options=[\n",
    "                    {'label': 'Labor Wages', 'value': 'Labor Wages'},\n",
    "                    {'label': 'Building Cost', 'value': 'Building Cost'},\n",
    "                ],\n",
    "                value='Labor Wages'\n",
    "            ),\n",
    "\n",
    "            dcc.Graph(id='histogram'),\n",
    "        ], md=6),\n",
    "    ]),\n",
    "])"
   ],
   "metadata": {
    "collapsed": false
   }
  },
  {
   "cell_type": "markdown",
   "source": [
    "Finally run the app, it will run on your local network, e.g. http://127.0.0.1:XXXX/"
   ],
   "metadata": {
    "collapsed": false
   }
  },
  {
   "cell_type": "code",
   "execution_count": null,
   "outputs": [
    {
     "name": "stdout",
     "output_type": "stream",
     "text": [
      "Dash is running on http://127.0.0.1:8050/\n",
      "\n",
      " * Serving Flask app '__main__'\n",
      " * Debug mode: off\n"
     ]
    },
    {
     "name": "stderr",
     "output_type": "stream",
     "text": [
      "WARNING: This is a development server. Do not use it in a production deployment. Use a production WSGI server instead.\n",
      " * Running on http://127.0.0.1:8050\n",
      "Press CTRL+C to quit\n",
      "127.0.0.1 - - [26/May/2023 14:41:53] \"GET / HTTP/1.1\" 200 -\n",
      "127.0.0.1 - - [26/May/2023 14:41:54] \"GET /_dash-layout HTTP/1.1\" 200 -\n",
      "127.0.0.1 - - [26/May/2023 14:41:54] \"GET /_dash-dependencies HTTP/1.1\" 200 -\n",
      "127.0.0.1 - - [26/May/2023 14:41:54] \"GET /_favicon.ico?v=2.10.0 HTTP/1.1\" 200 -\n",
      "127.0.0.1 - - [26/May/2023 14:41:54] \"GET /_dash-component-suites/dash/dcc/async-dropdown.js HTTP/1.1\" 200 -\n",
      "127.0.0.1 - - [26/May/2023 14:41:54] \"GET /_dash-component-suites/dash/dcc/async-graph.js HTTP/1.1\" 304 -\n",
      "127.0.0.1 - - [26/May/2023 14:41:54] \"GET /_dash-component-suites/dash/dcc/async-slider.js HTTP/1.1\" 200 -\n",
      "127.0.0.1 - - [26/May/2023 14:41:54] \"GET /_dash-component-suites/dash/dcc/async-plotlyjs.js HTTP/1.1\" 304 -\n",
      "127.0.0.1 - - [26/May/2023 14:41:54] \"POST /_dash-update-component HTTP/1.1\" 200 -\n",
      "127.0.0.1 - - [26/May/2023 14:41:54] \"POST /_dash-update-component HTTP/1.1\" 200 -\n",
      "127.0.0.1 - - [26/May/2023 14:41:54] \"POST /_dash-update-component HTTP/1.1\" 200 -\n",
      "127.0.0.1 - - [26/May/2023 14:41:54] \"POST /_dash-update-component HTTP/1.1\" 200 -\n"
     ]
    }
   ],
   "source": [
    "app.run_server(debug=False)"
   ],
   "metadata": {
    "collapsed": false,
    "pycharm": {
     "is_executing": true
    }
   }
  },
  {
   "cell_type": "code",
   "execution_count": null,
   "outputs": [],
   "source": [],
   "metadata": {
    "collapsed": false,
    "pycharm": {
     "is_executing": true
    }
   }
  }
 ],
 "metadata": {
  "kernelspec": {
   "display_name": "Python 3",
   "language": "python",
   "name": "python3"
  },
  "language_info": {
   "codemirror_mode": {
    "name": "ipython",
    "version": 2
   },
   "file_extension": ".py",
   "mimetype": "text/x-python",
   "name": "python",
   "nbconvert_exporter": "python",
   "pygments_lexer": "ipython2",
   "version": "2.7.6"
  }
 },
 "nbformat": 4,
 "nbformat_minor": 0
}
