{
 "cells": [
  {
   "cell_type": "code",
   "execution_count": 484,
   "metadata": {
    "collapsed": true
   },
   "outputs": [],
   "source": [
    "import pandas as pd\n",
    "import numpy as np\n",
    "from datetime import datetime, timedelta\n",
    "import plotly.graph_objects as go\n",
    "import dash\n",
    "import dash_core_components as dcc\n",
    "import dash_html_components as html\n",
    "from dash.dependencies import Input, Output, State\n",
    "import dash_bootstrap_components as dbc\n",
    "import sys\n",
    "import logging"
   ]
  },
  {
   "cell_type": "markdown",
   "source": [
    "To allow for flexible changes made some styling variables"
   ],
   "metadata": {
    "collapsed": false
   }
  },
  {
   "cell_type": "code",
   "execution_count": 485,
   "outputs": [],
   "source": [
    "logging.basicConfig(level=logging.INFO)\n",
    "BACKGROUND_COLOR = '#242424'\n",
    "FONT_COLOR = '#FFFFFF'\n",
    "FONT_FAMILY = 'Lato'\n",
    "PADDING = '10px'\n",
    "\n",
    "H1_STYLE = {'font-size':'30px','text-align':'center'}\n",
    "H3_STYLE = {'font-size':'14px'}\n",
    "\n",
    "KPI_BOX_STYLE = {\n",
    "    'textAlign': 'center',\n",
    "    'padding': PADDING,\n",
    "    'color': FONT_COLOR,\n",
    "    'fontFamily': FONT_FAMILY,\n",
    "    'backgroundColor': '#1E88E5',\n",
    "    'borderRadius': '10px',\n",
    "    'height': '100%',\n",
    "    'display': 'flex',\n",
    "    'justifyContent': 'center',\n",
    "    'alignItems': 'center'\n",
    "}"
   ],
   "metadata": {
    "collapsed": false
   }
  },
  {
   "cell_type": "code",
   "execution_count": 486,
   "outputs": [],
   "source": [
    "def generate_data(num_rows=1000):\n",
    "    np.random.seed(0)\n",
    "    years = np.random.choice(range(2000, 2024), num_rows)\n",
    "    countries = np.random.choice(['Germany', 'France', 'Italy', 'Spain', 'UK', 'Belgium', 'Netherlands', 'Denmark', 'Sweden', 'Norway', 'Finland'], num_rows)\n",
    "    construction_values = np.random.uniform(1000, 50000, num_rows)\n",
    "    labor_wages = np.random.uniform(10, 50, num_rows)\n",
    "    building_costs = np.random.uniform(500, 30000, num_rows)\n",
    "\n",
    "    return pd.DataFrame({'Year': years, 'Country': countries,\n",
    "                         'Construction Value': construction_values,\n",
    "                         'Labor Wages': labor_wages,\n",
    "                         'Building Cost': building_costs})"
   ],
   "metadata": {
    "collapsed": false
   }
  },
  {
   "cell_type": "code",
   "execution_count": 487,
   "outputs": [],
   "source": [
    "df = generate_data()\n",
    "\n",
    "app = dash.Dash(__name__, external_stylesheets=[dbc.themes.CYBORG])"
   ],
   "metadata": {
    "collapsed": false
   }
  },
  {
   "cell_type": "code",
   "execution_count": 488,
   "outputs": [],
   "source": [
    "def create_kpi_box(box_id):\n",
    "    return dbc.Col(html.Div(id=box_id, style=KPI_BOX_STYLE), width=3)"
   ],
   "metadata": {
    "collapsed": false
   }
  },
  {
   "cell_type": "code",
   "execution_count": 489,
   "outputs": [],
   "source": [
    "@app.callback(\n",
    "    Output('scatter-plot', 'figure'),\n",
    "    [Input('year-slider', 'value'),\n",
    "     Input('country-dropdown', 'value')]\n",
    ")\n",
    "def update_scatter_plot(year, countries):\n",
    "    try:\n",
    "        df_filtered = df[(df['Year'] == year) & (df['Country'].isin(countries))]\n",
    "\n",
    "        scatter_plot = go.Scatter(\n",
    "            x=df_filtered['Country'],\n",
    "            y=df_filtered['Construction Value'],\n",
    "            mode='markers'\n",
    "        )\n",
    "\n",
    "        layout = go.Layout(\n",
    "            title='Construction Value by Country',\n",
    "            xaxis=dict(title='Country'),\n",
    "            yaxis=dict(title='Construction Value'),\n",
    "            autosize=True\n",
    "        )\n",
    "\n",
    "        return {'data': [scatter_plot], 'layout': layout}\n",
    "    except Exception as e:\n",
    "        logging.exception(e)"
   ],
   "metadata": {
    "collapsed": false
   }
  },
  {
   "cell_type": "code",
   "execution_count": 490,
   "outputs": [],
   "source": [
    "@app.callback(\n",
    "    Output('bar-chart', 'figure'),\n",
    "    [Input('year-slider', 'value'),\n",
    "     Input('top-10-check', 'value'),\n",
    "     Input('country-dropdown', 'value')]\n",
    ")\n",
    "def update_bar_chart(year, check_values, countries):\n",
    "    try:\n",
    "        df_filtered = df[(df['Year'] == year) & (df['Country'].isin(countries))]\n",
    "        if 'top-10' in check_values:\n",
    "            df_filtered = df_filtered.sort_values('Construction Value', ascending=False)[:10]\n",
    "\n",
    "        bar_chart = go.Bar(\n",
    "            x=df_filtered['Country'],\n",
    "            y=df_filtered['Construction Value'],\n",
    "        )\n",
    "\n",
    "        layout = go.Layout(\n",
    "            title='Construction Value by Country',\n",
    "            xaxis=dict(title='Country'),\n",
    "            yaxis=dict(title='Construction Value'),\n",
    "            autosize=True\n",
    "        )\n",
    "\n",
    "        return {'data': [bar_chart], 'layout': layout}\n",
    "    except Exception as e:\n",
    "        logging.exception(e)"
   ],
   "metadata": {
    "collapsed": false
   }
  },
  {
   "cell_type": "code",
   "execution_count": 491,
   "outputs": [],
   "source": [
    "@app.callback(\n",
    "    Output('histogram', 'figure'),\n",
    "    [Input('year-slider', 'value'),\n",
    "     Input('wage-cost-radio', 'value'),\n",
    "     Input('country-dropdown', 'value')]\n",
    ")\n",
    "def update_histogram(year, radio_value, countries):\n",
    "    try:\n",
    "        df_filtered = df[(df['Year'] == year) & df['Country'].isin(countries)]\n",
    "        histogram = go.Histogram(\n",
    "            x=df_filtered[radio_value],\n",
    "        )\n",
    "\n",
    "        layout = go.Layout(\n",
    "            title=f'{radio_value} Distribution',\n",
    "            xaxis=dict(title=radio_value),\n",
    "            yaxis=dict(title='Frequency'),\n",
    "            autosize=True\n",
    "        )\n",
    "\n",
    "        return {'data': [histogram], 'layout': layout}\n",
    "    except Exception as e:\n",
    "        logging.exception(e)"
   ],
   "metadata": {
    "collapsed": false
   }
  },
  {
   "cell_type": "code",
   "execution_count": 492,
   "outputs": [],
   "source": [
    "@app.callback(\n",
    "    Output('pie-chart', 'figure'),\n",
    "    [Input('year-slider', 'value'),\n",
    "     Input('country-dropdown', 'value')]\n",
    ")\n",
    "def update_pie_chart(year, countries):\n",
    "    try:\n",
    "        df_filtered = df[(df['Year'] == year) & (df['Country'].isin(countries))]\n",
    "\n",
    "        pie_chart = go.Pie(\n",
    "            labels=df_filtered['Country'],\n",
    "            values=df_filtered['Construction Value'],\n",
    "            hole=.3\n",
    "        )\n",
    "\n",
    "        layout = go.Layout(\n",
    "            title='Construction Value by Country',\n",
    "            autosize=True\n",
    "        )\n",
    "\n",
    "        return {'data': [pie_chart], 'layout': layout}\n",
    "    except Exception as e:\n",
    "        logging.exception(e)"
   ],
   "metadata": {
    "collapsed": false
   }
  },
  {
   "cell_type": "code",
   "execution_count": 493,
   "outputs": [],
   "source": [
    "@app.callback(\n",
    "    [Output('kpi-1', 'children'),\n",
    "     Output('kpi-2', 'children'),\n",
    "     Output('kpi-3', 'children'),\n",
    "     Output('kpi-4', 'children')],\n",
    "    [Input('year-slider', 'value'),\n",
    "     Input('country-dropdown', 'value')]\n",
    ")\n",
    "def update_kpi_boxes(year, countries):\n",
    "    df_filtered = df[(df['Year'] == year) & df['Country'].isin(countries)]\n",
    "\n",
    "    total_construction_value = round(df_filtered['Construction Value'].sum(),2)\n",
    "    avg_labor_wages = round(df_filtered['Labor Wages'].mean(),2)\n",
    "    avg_building_cost = round(df_filtered['Building Cost'].mean(),2)\n",
    "    n_countries = len(df_filtered['Country'].unique())\n",
    "\n",
    "    return f'Total Construction Value: €{total_construction_value}', f'Average Labor Wages: €{avg_labor_wages}', f'Average Building Cost: €{avg_building_cost}', f'Number Countries: {n_countries}'\n"
   ],
   "metadata": {
    "collapsed": false
   }
  },
  {
   "cell_type": "code",
   "execution_count": 494,
   "outputs": [],
   "source": [
    "app.layout = html.Div(children=[\n",
    "    dbc.Container(\n",
    "        [\n",
    "            dbc.Row(\n",
    "                [\n",
    "                    dbc.Col(\n",
    "                        [\n",
    "                            html.H1(\"Construction Analytics Dashboard\", style=H1_STYLE),\n",
    "                            html.Hr(),\n",
    "                            dbc.Row(\n",
    "                                [\n",
    "                                    create_kpi_box('kpi-1'),\n",
    "                                    create_kpi_box('kpi-2'),\n",
    "                                    create_kpi_box('kpi-3'),\n",
    "                                    create_kpi_box('kpi-4'),\n",
    "                                ]\n",
    "                            ),\n",
    "                            html.Hr(),\n",
    "                            html.H3(\"Select Countries\", style=H3_STYLE),\n",
    "                            dcc.Dropdown(\n",
    "                                id='country-dropdown',\n",
    "                                options=[{'label': i, 'value': i} for i in df['Country'].unique()],\n",
    "                                multi=True,\n",
    "                                value=df['Country'].unique().tolist()  # Default value is now all countries\n",
    "                            ),\n",
    "                            html.Hr(),\n",
    "                            html.H3(\"Select Year\", style=H3_STYLE),\n",
    "                            dcc.Slider(\n",
    "                                id='year-slider',\n",
    "                                min=df['Year'].min(),\n",
    "                                max=df['Year'].max(),\n",
    "                                value=df['Year'].min(),\n",
    "                                marks={str(year): str(year) for year in df['Year'].unique()},\n",
    "                                step=None\n",
    "                            ),\n",
    "                            html.Hr(),\n",
    "                            dbc.Row(\n",
    "                                [\n",
    "                                    dbc.Col(\n",
    "                                        [\n",
    "                                            html.H3(\"Scatter Plot\", style=H3_STYLE),\n",
    "                                            html.Hr(),\n",
    "                                            dcc.Graph(id='scatter-plot')\n",
    "                                        ]\n",
    "                                    )\n",
    "                                ]\n",
    "                            ),\n",
    "                            html.Hr(),\n",
    "                            dbc.Row(\n",
    "                                [\n",
    "                                    dbc.Col(\n",
    "                                        [\n",
    "                                            html.H3(\"Bar Chart\", style=H3_STYLE),\n",
    "                                            html.Hr(),\n",
    "                                            dcc.Checklist(\n",
    "                                                id='top-10-check',\n",
    "                                                options=[{'label': 'Top 10', 'value': 'top-10'}],\n",
    "                                                value=[]\n",
    "                                            ),\n",
    "                                            dcc.Graph(id='bar-chart')\n",
    "                                        ]\n",
    "                                    )\n",
    "                                ]\n",
    "                            ),\n",
    "                            html.Hr(),\n",
    "                            dbc.Row(\n",
    "                                [\n",
    "                                    dbc.Col(\n",
    "                                        [\n",
    "                                            html.H3(\"Histogram\", style=H3_STYLE),\n",
    "                                            html.Hr(),\n",
    "                                            dcc.RadioItems(\n",
    "                                                id='wage-cost-radio',\n",
    "                                                options=[{'label': i, 'value': i} for i in ['Labor Wages', 'Building Cost']],\n",
    "                                                value='Labor Wages'\n",
    "                                            ),\n",
    "                                            dcc.Graph(id='histogram')\n",
    "                                        ]\n",
    "                                    )\n",
    "                                ]\n",
    "                            ),\n",
    "                            html.Hr(),\n",
    "                            dbc.Row(\n",
    "                                [\n",
    "                                    dbc.Col(\n",
    "                                        [\n",
    "                                            html.H3(\"Pie Chart\", style=H3_STYLE),\n",
    "                                            html.Hr(),\n",
    "                                            dcc.Graph(id='pie-chart')\n",
    "                                        ]\n",
    "                                    )\n",
    "                                ]\n",
    "                            )\n",
    "                        ]\n",
    "                    )\n",
    "                ]\n",
    "            )\n",
    "        ]\n",
    "    )\n",
    "])"
   ],
   "metadata": {
    "collapsed": false
   }
  },
  {
   "cell_type": "markdown",
   "source": [
    "Finally run the app, it will run on your local network, e.g. http://127.0.0.1:XXXX/"
   ],
   "metadata": {
    "collapsed": false
   }
  },
  {
   "cell_type": "code",
   "execution_count": 495,
   "outputs": [
    {
     "name": "stdout",
     "output_type": "stream",
     "text": [
      "Dash is running on http://127.0.0.1:8050/\n",
      "\n"
     ]
    },
    {
     "name": "stderr",
     "output_type": "stream",
     "text": [
      "INFO:dash.dash:Dash is running on http://127.0.0.1:8050/\n",
      "\n"
     ]
    },
    {
     "name": "stdout",
     "output_type": "stream",
     "text": [
      " * Serving Flask app '__main__'\n",
      " * Debug mode: off\n"
     ]
    },
    {
     "name": "stderr",
     "output_type": "stream",
     "text": [
      "WARNING: This is a development server. Do not use it in a production deployment. Use a production WSGI server instead.\n",
      " * Running on http://127.0.0.1:8050\n",
      "INFO:werkzeug:\u001B[31m\u001B[1mWARNING: This is a development server. Do not use it in a production deployment. Use a production WSGI server instead.\u001B[0m\n",
      " * Running on http://127.0.0.1:8050\n",
      "Press CTRL+C to quit\n",
      "INFO:werkzeug:\u001B[33mPress CTRL+C to quit\u001B[0m\n",
      "127.0.0.1 - - [29/May/2023 14:04:05] \"GET / HTTP/1.1\" 200 -\n",
      "INFO:werkzeug:127.0.0.1 - - [29/May/2023 14:04:05] \"GET / HTTP/1.1\" 200 -\n",
      "127.0.0.1 - - [29/May/2023 14:04:05] \"GET /_dash-layout HTTP/1.1\" 200 -\n",
      "INFO:werkzeug:127.0.0.1 - - [29/May/2023 14:04:05] \"GET /_dash-layout HTTP/1.1\" 200 -\n",
      "127.0.0.1 - - [29/May/2023 14:04:05] \"GET /_dash-dependencies HTTP/1.1\" 200 -\n",
      "INFO:werkzeug:127.0.0.1 - - [29/May/2023 14:04:05] \"GET /_dash-dependencies HTTP/1.1\" 200 -\n",
      "127.0.0.1 - - [29/May/2023 14:04:05] \"GET /_dash-component-suites/dash/dcc/async-dropdown.js HTTP/1.1\" 304 -\n",
      "INFO:werkzeug:127.0.0.1 - - [29/May/2023 14:04:05] \"\u001B[36mGET /_dash-component-suites/dash/dcc/async-dropdown.js HTTP/1.1\u001B[0m\" 304 -\n",
      "127.0.0.1 - - [29/May/2023 14:04:05] \"GET /_dash-component-suites/dash/dcc/async-slider.js HTTP/1.1\" 304 -\n",
      "INFO:werkzeug:127.0.0.1 - - [29/May/2023 14:04:05] \"\u001B[36mGET /_dash-component-suites/dash/dcc/async-slider.js HTTP/1.1\u001B[0m\" 304 -\n",
      "127.0.0.1 - - [29/May/2023 14:04:05] \"GET /_dash-component-suites/dash/dcc/async-graph.js HTTP/1.1\" 304 -\n",
      "INFO:werkzeug:127.0.0.1 - - [29/May/2023 14:04:05] \"\u001B[36mGET /_dash-component-suites/dash/dcc/async-graph.js HTTP/1.1\u001B[0m\" 304 -\n",
      "127.0.0.1 - - [29/May/2023 14:04:05] \"GET /_dash-component-suites/dash/dcc/async-plotlyjs.js HTTP/1.1\" 304 -\n",
      "INFO:werkzeug:127.0.0.1 - - [29/May/2023 14:04:05] \"\u001B[36mGET /_dash-component-suites/dash/dcc/async-plotlyjs.js HTTP/1.1\u001B[0m\" 304 -\n",
      "127.0.0.1 - - [29/May/2023 14:04:05] \"POST /_dash-update-component HTTP/1.1\" 200 -\n",
      "INFO:werkzeug:127.0.0.1 - - [29/May/2023 14:04:05] \"POST /_dash-update-component HTTP/1.1\" 200 -\n",
      "127.0.0.1 - - [29/May/2023 14:04:05] \"POST /_dash-update-component HTTP/1.1\" 200 -\n",
      "INFO:werkzeug:127.0.0.1 - - [29/May/2023 14:04:05] \"POST /_dash-update-component HTTP/1.1\" 200 -\n",
      "127.0.0.1 - - [29/May/2023 14:04:05] \"POST /_dash-update-component HTTP/1.1\" 200 -\n",
      "INFO:werkzeug:127.0.0.1 - - [29/May/2023 14:04:05] \"POST /_dash-update-component HTTP/1.1\" 200 -\n",
      "127.0.0.1 - - [29/May/2023 14:04:05] \"POST /_dash-update-component HTTP/1.1\" 200 -\n",
      "INFO:werkzeug:127.0.0.1 - - [29/May/2023 14:04:05] \"POST /_dash-update-component HTTP/1.1\" 200 -\n",
      "127.0.0.1 - - [29/May/2023 14:04:05] \"POST /_dash-update-component HTTP/1.1\" 200 -\n",
      "INFO:werkzeug:127.0.0.1 - - [29/May/2023 14:04:05] \"POST /_dash-update-component HTTP/1.1\" 200 -\n",
      "127.0.0.1 - - [29/May/2023 14:04:07] \"GET / HTTP/1.1\" 200 -\n",
      "INFO:werkzeug:127.0.0.1 - - [29/May/2023 14:04:07] \"GET / HTTP/1.1\" 200 -\n",
      "127.0.0.1 - - [29/May/2023 14:04:07] \"GET /_dash-layout HTTP/1.1\" 200 -\n",
      "INFO:werkzeug:127.0.0.1 - - [29/May/2023 14:04:07] \"GET /_dash-layout HTTP/1.1\" 200 -\n",
      "127.0.0.1 - - [29/May/2023 14:04:07] \"GET /_dash-dependencies HTTP/1.1\" 200 -\n",
      "INFO:werkzeug:127.0.0.1 - - [29/May/2023 14:04:07] \"GET /_dash-dependencies HTTP/1.1\" 200 -\n",
      "127.0.0.1 - - [29/May/2023 14:04:07] \"GET /_dash-component-suites/dash/dcc/async-dropdown.js HTTP/1.1\" 304 -\n",
      "INFO:werkzeug:127.0.0.1 - - [29/May/2023 14:04:07] \"\u001B[36mGET /_dash-component-suites/dash/dcc/async-dropdown.js HTTP/1.1\u001B[0m\" 304 -\n",
      "127.0.0.1 - - [29/May/2023 14:04:07] \"GET /_dash-component-suites/dash/dcc/async-slider.js HTTP/1.1\" 304 -\n",
      "INFO:werkzeug:127.0.0.1 - - [29/May/2023 14:04:07] \"\u001B[36mGET /_dash-component-suites/dash/dcc/async-slider.js HTTP/1.1\u001B[0m\" 304 -\n",
      "127.0.0.1 - - [29/May/2023 14:04:07] \"GET /_dash-component-suites/dash/dcc/async-graph.js HTTP/1.1\" 304 -\n",
      "INFO:werkzeug:127.0.0.1 - - [29/May/2023 14:04:07] \"\u001B[36mGET /_dash-component-suites/dash/dcc/async-graph.js HTTP/1.1\u001B[0m\" 304 -\n",
      "127.0.0.1 - - [29/May/2023 14:04:07] \"GET /_dash-component-suites/dash/dcc/async-plotlyjs.js HTTP/1.1\" 304 -\n",
      "INFO:werkzeug:127.0.0.1 - - [29/May/2023 14:04:07] \"\u001B[36mGET /_dash-component-suites/dash/dcc/async-plotlyjs.js HTTP/1.1\u001B[0m\" 304 -\n",
      "127.0.0.1 - - [29/May/2023 14:04:07] \"POST /_dash-update-component HTTP/1.1\" 200 -\n",
      "INFO:werkzeug:127.0.0.1 - - [29/May/2023 14:04:07] \"POST /_dash-update-component HTTP/1.1\" 200 -\n",
      "127.0.0.1 - - [29/May/2023 14:04:07] \"POST /_dash-update-component HTTP/1.1\" 200 -\n",
      "INFO:werkzeug:127.0.0.1 - - [29/May/2023 14:04:07] \"POST /_dash-update-component HTTP/1.1\" 200 -\n",
      "127.0.0.1 - - [29/May/2023 14:04:07] \"POST /_dash-update-component HTTP/1.1\" 200 -\n",
      "INFO:werkzeug:127.0.0.1 - - [29/May/2023 14:04:07] \"POST /_dash-update-component HTTP/1.1\" 200 -\n",
      "127.0.0.1 - - [29/May/2023 14:04:07] \"POST /_dash-update-component HTTP/1.1\" 200 -\n",
      "INFO:werkzeug:127.0.0.1 - - [29/May/2023 14:04:07] \"POST /_dash-update-component HTTP/1.1\" 200 -\n",
      "127.0.0.1 - - [29/May/2023 14:04:07] \"POST /_dash-update-component HTTP/1.1\" 200 -\n",
      "INFO:werkzeug:127.0.0.1 - - [29/May/2023 14:04:07] \"POST /_dash-update-component HTTP/1.1\" 200 -\n",
      "127.0.0.1 - - [29/May/2023 14:04:22] \"POST /_dash-update-component HTTP/1.1\" 200 -\n",
      "INFO:werkzeug:127.0.0.1 - - [29/May/2023 14:04:22] \"POST /_dash-update-component HTTP/1.1\" 200 -\n",
      "127.0.0.1 - - [29/May/2023 14:04:22] \"POST /_dash-update-component HTTP/1.1\" 200 -\n",
      "INFO:werkzeug:127.0.0.1 - - [29/May/2023 14:04:22] \"POST /_dash-update-component HTTP/1.1\" 200 -\n",
      "127.0.0.1 - - [29/May/2023 14:04:22] \"POST /_dash-update-component HTTP/1.1\" 200 -\n",
      "INFO:werkzeug:127.0.0.1 - - [29/May/2023 14:04:22] \"POST /_dash-update-component HTTP/1.1\" 200 -\n",
      "127.0.0.1 - - [29/May/2023 14:04:22] \"POST /_dash-update-component HTTP/1.1\" 200 -\n",
      "INFO:werkzeug:127.0.0.1 - - [29/May/2023 14:04:22] \"POST /_dash-update-component HTTP/1.1\" 200 -\n",
      "127.0.0.1 - - [29/May/2023 14:04:22] \"POST /_dash-update-component HTTP/1.1\" 200 -\n",
      "INFO:werkzeug:127.0.0.1 - - [29/May/2023 14:04:22] \"POST /_dash-update-component HTTP/1.1\" 200 -\n",
      "127.0.0.1 - - [29/May/2023 14:04:23] \"POST /_dash-update-component HTTP/1.1\" 200 -\n",
      "INFO:werkzeug:127.0.0.1 - - [29/May/2023 14:04:23] \"POST /_dash-update-component HTTP/1.1\" 200 -\n",
      "127.0.0.1 - - [29/May/2023 14:04:23] \"POST /_dash-update-component HTTP/1.1\" 200 -\n",
      "INFO:werkzeug:127.0.0.1 - - [29/May/2023 14:04:23] \"POST /_dash-update-component HTTP/1.1\" 200 -\n",
      "127.0.0.1 - - [29/May/2023 14:04:23] \"POST /_dash-update-component HTTP/1.1\" 200 -\n",
      "INFO:werkzeug:127.0.0.1 - - [29/May/2023 14:04:23] \"POST /_dash-update-component HTTP/1.1\" 200 -\n",
      "127.0.0.1 - - [29/May/2023 14:04:23] \"POST /_dash-update-component HTTP/1.1\" 200 -\n",
      "INFO:werkzeug:127.0.0.1 - - [29/May/2023 14:04:23] \"POST /_dash-update-component HTTP/1.1\" 200 -\n",
      "127.0.0.1 - - [29/May/2023 14:04:23] \"POST /_dash-update-component HTTP/1.1\" 200 -\n",
      "INFO:werkzeug:127.0.0.1 - - [29/May/2023 14:04:23] \"POST /_dash-update-component HTTP/1.1\" 200 -\n",
      "127.0.0.1 - - [29/May/2023 14:04:25] \"POST /_dash-update-component HTTP/1.1\" 200 -\n",
      "INFO:werkzeug:127.0.0.1 - - [29/May/2023 14:04:25] \"POST /_dash-update-component HTTP/1.1\" 200 -\n",
      "127.0.0.1 - - [29/May/2023 14:04:25] \"POST /_dash-update-component HTTP/1.1\" 200 -\n",
      "INFO:werkzeug:127.0.0.1 - - [29/May/2023 14:04:25] \"POST /_dash-update-component HTTP/1.1\" 200 -\n",
      "127.0.0.1 - - [29/May/2023 14:04:25] \"POST /_dash-update-component HTTP/1.1\" 200 -\n",
      "INFO:werkzeug:127.0.0.1 - - [29/May/2023 14:04:25] \"POST /_dash-update-component HTTP/1.1\" 200 -\n",
      "127.0.0.1 - - [29/May/2023 14:04:25] \"POST /_dash-update-component HTTP/1.1\" 200 -\n",
      "INFO:werkzeug:127.0.0.1 - - [29/May/2023 14:04:25] \"POST /_dash-update-component HTTP/1.1\" 200 -\n",
      "127.0.0.1 - - [29/May/2023 14:04:25] \"POST /_dash-update-component HTTP/1.1\" 200 -\n",
      "INFO:werkzeug:127.0.0.1 - - [29/May/2023 14:04:25] \"POST /_dash-update-component HTTP/1.1\" 200 -\n",
      "127.0.0.1 - - [29/May/2023 14:04:30] \"POST /_dash-update-component HTTP/1.1\" 200 -\n",
      "INFO:werkzeug:127.0.0.1 - - [29/May/2023 14:04:30] \"POST /_dash-update-component HTTP/1.1\" 200 -\n",
      "127.0.0.1 - - [29/May/2023 14:04:30] \"POST /_dash-update-component HTTP/1.1\" 200 -\n",
      "INFO:werkzeug:127.0.0.1 - - [29/May/2023 14:04:30] \"POST /_dash-update-component HTTP/1.1\" 200 -\n",
      "127.0.0.1 - - [29/May/2023 14:04:30] \"POST /_dash-update-component HTTP/1.1\" 200 -\n",
      "INFO:werkzeug:127.0.0.1 - - [29/May/2023 14:04:30] \"POST /_dash-update-component HTTP/1.1\" 200 -\n",
      "127.0.0.1 - - [29/May/2023 14:04:30] \"POST /_dash-update-component HTTP/1.1\" 200 -\n",
      "INFO:werkzeug:127.0.0.1 - - [29/May/2023 14:04:30] \"POST /_dash-update-component HTTP/1.1\" 200 -\n",
      "127.0.0.1 - - [29/May/2023 14:04:30] \"POST /_dash-update-component HTTP/1.1\" 200 -\n",
      "INFO:werkzeug:127.0.0.1 - - [29/May/2023 14:04:30] \"POST /_dash-update-component HTTP/1.1\" 200 -\n",
      "127.0.0.1 - - [29/May/2023 14:04:31] \"POST /_dash-update-component HTTP/1.1\" 200 -\n",
      "INFO:werkzeug:127.0.0.1 - - [29/May/2023 14:04:31] \"POST /_dash-update-component HTTP/1.1\" 200 -\n",
      "127.0.0.1 - - [29/May/2023 14:04:31] \"POST /_dash-update-component HTTP/1.1\" 200 -\n",
      "INFO:werkzeug:127.0.0.1 - - [29/May/2023 14:04:31] \"POST /_dash-update-component HTTP/1.1\" 200 -\n",
      "127.0.0.1 - - [29/May/2023 14:04:31] \"POST /_dash-update-component HTTP/1.1\" 200 -\n",
      "INFO:werkzeug:127.0.0.1 - - [29/May/2023 14:04:31] \"POST /_dash-update-component HTTP/1.1\" 200 -\n",
      "127.0.0.1 - - [29/May/2023 14:04:31] \"POST /_dash-update-component HTTP/1.1\" 200 -\n",
      "INFO:werkzeug:127.0.0.1 - - [29/May/2023 14:04:31] \"POST /_dash-update-component HTTP/1.1\" 200 -\n",
      "127.0.0.1 - - [29/May/2023 14:04:31] \"POST /_dash-update-component HTTP/1.1\" 200 -\n",
      "INFO:werkzeug:127.0.0.1 - - [29/May/2023 14:04:31] \"POST /_dash-update-component HTTP/1.1\" 200 -\n",
      "127.0.0.1 - - [29/May/2023 14:04:33] \"POST /_dash-update-component HTTP/1.1\" 200 -\n",
      "INFO:werkzeug:127.0.0.1 - - [29/May/2023 14:04:33] \"POST /_dash-update-component HTTP/1.1\" 200 -\n",
      "127.0.0.1 - - [29/May/2023 14:04:33] \"POST /_dash-update-component HTTP/1.1\" 200 -\n",
      "INFO:werkzeug:127.0.0.1 - - [29/May/2023 14:04:33] \"POST /_dash-update-component HTTP/1.1\" 200 -\n",
      "127.0.0.1 - - [29/May/2023 14:04:33] \"POST /_dash-update-component HTTP/1.1\" 200 -\n",
      "INFO:werkzeug:127.0.0.1 - - [29/May/2023 14:04:33] \"POST /_dash-update-component HTTP/1.1\" 200 -\n",
      "127.0.0.1 - - [29/May/2023 14:04:33] \"POST /_dash-update-component HTTP/1.1\" 200 -\n",
      "INFO:werkzeug:127.0.0.1 - - [29/May/2023 14:04:33] \"POST /_dash-update-component HTTP/1.1\" 200 -\n",
      "127.0.0.1 - - [29/May/2023 14:04:33] \"POST /_dash-update-component HTTP/1.1\" 200 -\n",
      "INFO:werkzeug:127.0.0.1 - - [29/May/2023 14:04:33] \"POST /_dash-update-component HTTP/1.1\" 200 -\n",
      "127.0.0.1 - - [29/May/2023 14:04:35] \"POST /_dash-update-component HTTP/1.1\" 200 -\n",
      "INFO:werkzeug:127.0.0.1 - - [29/May/2023 14:04:35] \"POST /_dash-update-component HTTP/1.1\" 200 -\n",
      "127.0.0.1 - - [29/May/2023 14:04:35] \"POST /_dash-update-component HTTP/1.1\" 200 -\n",
      "INFO:werkzeug:127.0.0.1 - - [29/May/2023 14:04:35] \"POST /_dash-update-component HTTP/1.1\" 200 -\n",
      "127.0.0.1 - - [29/May/2023 14:04:35] \"POST /_dash-update-component HTTP/1.1\" 200 -\n",
      "INFO:werkzeug:127.0.0.1 - - [29/May/2023 14:04:35] \"POST /_dash-update-component HTTP/1.1\" 200 -\n",
      "127.0.0.1 - - [29/May/2023 14:04:35] \"POST /_dash-update-component HTTP/1.1\" 200 -\n",
      "INFO:werkzeug:127.0.0.1 - - [29/May/2023 14:04:35] \"POST /_dash-update-component HTTP/1.1\" 200 -\n",
      "127.0.0.1 - - [29/May/2023 14:04:35] \"POST /_dash-update-component HTTP/1.1\" 200 -\n",
      "INFO:werkzeug:127.0.0.1 - - [29/May/2023 14:04:35] \"POST /_dash-update-component HTTP/1.1\" 200 -\n"
     ]
    }
   ],
   "source": [
    "app.run_server(debug=False)"
   ],
   "metadata": {
    "collapsed": false
   }
  },
  {
   "cell_type": "code",
   "execution_count": 495,
   "outputs": [],
   "source": [],
   "metadata": {
    "collapsed": false
   }
  }
 ],
 "metadata": {
  "kernelspec": {
   "display_name": "Python 3",
   "language": "python",
   "name": "python3"
  },
  "language_info": {
   "codemirror_mode": {
    "name": "ipython",
    "version": 2
   },
   "file_extension": ".py",
   "mimetype": "text/x-python",
   "name": "python",
   "nbconvert_exporter": "python",
   "pygments_lexer": "ipython2",
   "version": "2.7.6"
  }
 },
 "nbformat": 4,
 "nbformat_minor": 0
}
