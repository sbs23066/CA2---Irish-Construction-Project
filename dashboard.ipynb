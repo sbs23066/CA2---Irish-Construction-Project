{
 "cells": [
  {
   "cell_type": "code",
   "execution_count": 359,
   "metadata": {
    "collapsed": true
   },
   "outputs": [],
   "source": [
    "import pandas as pd\n",
    "import numpy as np\n",
    "from datetime import datetime, timedelta\n",
    "import plotly.graph_objects as go\n",
    "import dash\n",
    "import dash_core_components as dcc\n",
    "import dash_html_components as html\n",
    "from dash.dependencies import Input, Output, State\n",
    "import dash_bootstrap_components as dbc"
   ]
  },
  {
   "cell_type": "markdown",
   "source": [
    "To allow for flexible changes made some styling variables"
   ],
   "metadata": {
    "collapsed": false
   }
  },
  {
   "cell_type": "code",
   "execution_count": 360,
   "outputs": [],
   "source": [
    "WINDOW_WIDTH = 1920\n",
    "WINDOW_HEIGHT = 927\n",
    "BACKGROUND_COLOR = '#242424'\n",
    "FONT_COLOR = '#FFFFFF'\n",
    "FONT_FAMILY = 'Lato'\n",
    "PADDING = '10px'\n",
    "KPI_BOX_STYLE = {'borderRadius': '10px', 'backgroundColor': BACKGROUND_COLOR, 'padding': PADDING, 'color':FONT_COLOR, 'font-family':FONT_FAMILY, 'fontSize': '20px', 'justify':\"center\", 'align':\"center\"}"
   ],
   "metadata": {
    "collapsed": false
   }
  },
  {
   "cell_type": "code",
   "execution_count": 361,
   "outputs": [],
   "source": [
    "def generate_data(num_rows=1000):\n",
    "    np.random.seed(0)\n",
    "    years = np.random.choice(range(2000, 2024), num_rows)\n",
    "    countries = np.random.choice(['Germany', 'France', 'Italy', 'Spain', 'UK', 'Belgium', 'Netherlands', 'Denmark', 'Sweden', 'Norway', 'Finland'], num_rows)\n",
    "    construction_values = np.random.uniform(1000, 50000, num_rows)\n",
    "    labor_wages = np.random.uniform(10, 50, num_rows)\n",
    "    building_costs = np.random.uniform(500, 30000, num_rows)\n",
    "\n",
    "    return pd.DataFrame({'Year': years, 'Country': countries,\n",
    "                         'Construction Value': construction_values,\n",
    "                         'Labor Wages': labor_wages,\n",
    "                         'Building Cost': building_costs})"
   ],
   "metadata": {
    "collapsed": false
   }
  },
  {
   "cell_type": "code",
   "execution_count": 362,
   "outputs": [],
   "source": [
    "df = generate_data()\n",
    "\n",
    "app = dash.Dash(__name__, external_stylesheets=[dbc.themes.CYBORG])"
   ],
   "metadata": {
    "collapsed": false
   }
  },
  {
   "cell_type": "code",
   "execution_count": 363,
   "outputs": [],
   "source": [
    "# Define the app callbacks\n",
    "@app.callback(\n",
    "    Output('scatter-plot', 'figure'),\n",
    "    Input('country-dropdown', 'value')\n",
    ")\n",
    "def update_scatter_plot(countries):\n",
    "    df_filtered = df[df['Country'].isin(countries)]\n",
    "    scatter_plot = go.Scatter(x=df_filtered['Year'],\n",
    "                              y=df_filtered['Construction Value'],\n",
    "                              mode='markers',\n",
    "                              marker=dict(size=10, color='#1E88E5'))\n",
    "    layout = go.Layout(title='Construction Value over Time',\n",
    "                       xaxis=dict(title='Year'),\n",
    "                       yaxis=dict(title='Construction Value'),\n",
    "                       font=dict(family=FONT_FAMILY),\n",
    "                       plot_bgcolor=BACKGROUND_COLOR,\n",
    "                       paper_bgcolor=BACKGROUND_COLOR,\n",
    "                       font_color=FONT_COLOR)\n",
    "    return {'data': [scatter_plot], 'layout': layout}"
   ],
   "metadata": {
    "collapsed": false
   }
  },
  {
   "cell_type": "code",
   "execution_count": 364,
   "outputs": [],
   "source": [
    "@app.callback(\n",
    "    Output('bar-chart', 'figure'),\n",
    "    [Input('year-slider', 'value'), Input('top-10-check', 'value')]\n",
    ")\n",
    "def update_bar_chart(year, top10):\n",
    "    df_filtered = df[df['Year'] == year]\n",
    "    if 'TOP10' in top10:\n",
    "        df_filtered = df_filtered.groupby('Country')['Construction Value'].mean().nlargest(10).reset_index()\n",
    "    else:\n",
    "        df_filtered = df_filtered.groupby('Country')['Construction Value'].mean().reset_index()\n",
    "\n",
    "    bar_chart = go.Bar(x=df_filtered['Country'],\n",
    "                       y=df_filtered['Construction Value'],\n",
    "                       marker=dict(color='#FFC107'))\n",
    "    layout = go.Layout(title=f'Construction Value by Country in {year}',\n",
    "                       xaxis=dict(title='Country'),\n",
    "                       yaxis=dict(title='Construction Value'),\n",
    "                       font=dict(family=FONT_FAMILY),\n",
    "                       plot_bgcolor=BACKGROUND_COLOR,\n",
    "                       paper_bgcolor=BACKGROUND_COLOR,\n",
    "                       font_color=FONT_COLOR)\n",
    "    return {'data': [bar_chart], 'layout': layout}"
   ],
   "metadata": {
    "collapsed": false
   }
  },
  {
   "cell_type": "code",
   "execution_count": 365,
   "outputs": [],
   "source": [
    "@app.callback(\n",
    "    Output('histogram', 'figure'),\n",
    "    [Input('country-dropdown', 'value'), Input('wage-cost-radio', 'value')]\n",
    ")\n",
    "def update_histogram(countries, wage_or_cost):\n",
    "    df_filtered = df[df['Country'].isin(countries)]\n",
    "    histogram = go.Histogram(x=df_filtered[wage_or_cost],\n",
    "                             nbinsx=20,\n",
    "                             marker=dict(color='#00796B'))\n",
    "    layout = go.Layout(title='Distribution of ' + wage_or_cost,\n",
    "                       xaxis=dict(title=wage_or_cost),\n",
    "                       yaxis=dict(title='Frequency'),\n",
    "                       font=dict(family=FONT_FAMILY),\n",
    "                       plot_bgcolor=BACKGROUND_COLOR,\n",
    "                       paper_bgcolor=BACKGROUND_COLOR,\n",
    "                       font_color=FONT_COLOR)\n",
    "    return {'data': [histogram], 'layout': layout}"
   ],
   "metadata": {
    "collapsed": false
   }
  },
  {
   "cell_type": "code",
   "execution_count": 366,
   "outputs": [],
   "source": [
    "@app.callback(\n",
    "    Output('pie-chart', 'figure'),\n",
    "    Input('year-slider', 'value')\n",
    ")\n",
    "def update_pie_chart(year):\n",
    "    df_filtered = df[df['Year'] == year]\n",
    "    df_grouped = df_filtered.groupby('Country')['Construction Value'].mean()\n",
    "\n",
    "    pie_chart = go.Pie(labels=df_grouped.index, values=df_grouped.values)\n",
    "    layout = go.Layout(title=f'Average Construction Value by Country in {year}',\n",
    "                       font=dict(family=FONT_FAMILY),\n",
    "                       plot_bgcolor=BACKGROUND_COLOR,\n",
    "                       paper_bgcolor=BACKGROUND_COLOR,\n",
    "                       font_color=FONT_COLOR)\n",
    "    return {'data': [pie_chart], 'layout': layout}"
   ],
   "metadata": {
    "collapsed": false
   }
  },
  {
   "cell_type": "code",
   "execution_count": 367,
   "outputs": [],
   "source": [
    "app.layout = html.Div(children=[\n",
    "    html.H1(\"Construction Dashboard\",\n",
    "            style={'text-align':'center', 'padding':PADDING, 'color':FONT_COLOR, 'font-family':FONT_FAMILY}),\n",
    "\n",
    "    dbc.Row([\n",
    "        dbc.Col(html.H1('Avg Construction Value\\n' + str(round(df['Construction Value'].mean(), 2)),\n",
    "                        style=KPI_BOX_STYLE)),\n",
    "        dbc.Col(html.H1('Avg Labor Wages\\n' + str(round(df['Labor Wages'].mean(), 2)),\n",
    "                        style=KPI_BOX_STYLE)),\n",
    "        dbc.Col(html.H1('Avg Building Cost\\n' + str(round(df['Building Cost'].mean(), 2)),\n",
    "                        style=KPI_BOX_STYLE)),\n",
    "        dbc.Col(html.H1('Number of Countries\\n' + str(len(df['Country'].unique())),\n",
    "                        style=KPI_BOX_STYLE))\n",
    "    ], justify='center'),\n",
    "\n",
    "    dbc.Row([\n",
    "        dbc.Col([\n",
    "            dcc.Dropdown(\n",
    "                id='country-dropdown',\n",
    "                options=[\n",
    "                    {'label': country, 'value': country}\n",
    "                    for country in df['Country'].unique()\n",
    "                ],\n",
    "                value=df['Country'].unique().tolist(),\n",
    "                multi=True,\n",
    "                placeholder='Select countries'\n",
    "            ),\n",
    "\n",
    "            dbc.Checklist(\n",
    "                id='top-10-check',\n",
    "                options=[{'label': 'Top 10 Countries Only', 'value': 'TOP10'}],\n",
    "                value=[]\n",
    "            ),\n",
    "\n",
    "            dcc.Slider(\n",
    "                id='year-slider',\n",
    "                min=df['Year'].min(),\n",
    "                max=df['Year'].max(),\n",
    "                value=df['Year'].min(),\n",
    "                marks={str(year): str(year) for year in df['Year'].unique()},\n",
    "                step=None\n",
    "            ),\n",
    "\n",
    "            dcc.RadioItems(\n",
    "                id='wage-cost-radio',\n",
    "                options=[\n",
    "                    {'label': 'Labor Wages', 'value': 'Labor Wages'},\n",
    "                    {'label': 'Building Cost', 'value': 'Building Cost'},\n",
    "                ],\n",
    "                value='Labor Wages'\n",
    "            ),\n",
    "        ], md=3),\n",
    "\n",
    "        dbc.Col([\n",
    "            dcc.Graph(id='scatter-plot'),\n",
    "            dcc.Graph(id='pie-chart'),\n",
    "        ], md=3),\n",
    "\n",
    "        dbc.Col([\n",
    "            dcc.Graph(id='bar-chart'),\n",
    "            dcc.Graph(id='histogram'),\n",
    "        ], md=3),\n",
    "    ]),\n",
    "])"
   ],
   "metadata": {
    "collapsed": false
   }
  },
  {
   "cell_type": "markdown",
   "source": [
    "Finally run the app, it will run on your local network, e.g. http://127.0.0.1:XXXX/"
   ],
   "metadata": {
    "collapsed": false
   }
  },
  {
   "cell_type": "code",
   "execution_count": null,
   "outputs": [
    {
     "name": "stdout",
     "output_type": "stream",
     "text": [
      "Dash is running on http://127.0.0.1:8050/\n",
      "\n",
      " * Serving Flask app '__main__'\n",
      " * Debug mode: off\n"
     ]
    },
    {
     "name": "stderr",
     "output_type": "stream",
     "text": [
      "WARNING: This is a development server. Do not use it in a production deployment. Use a production WSGI server instead.\n",
      " * Running on http://127.0.0.1:8050\n",
      "Press CTRL+C to quit\n",
      "127.0.0.1 - - [26/May/2023 16:04:45] \"GET / HTTP/1.1\" 200 -\n",
      "127.0.0.1 - - [26/May/2023 16:04:45] \"GET /_dash-layout HTTP/1.1\" 200 -\n",
      "127.0.0.1 - - [26/May/2023 16:04:45] \"GET /_dash-dependencies HTTP/1.1\" 200 -\n",
      "127.0.0.1 - - [26/May/2023 16:04:45] \"GET /_dash-component-suites/dash/dcc/async-dropdown.js HTTP/1.1\" 304 -\n",
      "127.0.0.1 - - [26/May/2023 16:04:45] \"GET /_dash-component-suites/dash/dcc/async-slider.js HTTP/1.1\" 304 -\n",
      "127.0.0.1 - - [26/May/2023 16:04:45] \"GET /_dash-component-suites/dash/dcc/async-graph.js HTTP/1.1\" 304 -\n",
      "127.0.0.1 - - [26/May/2023 16:04:45] \"GET /_dash-component-suites/dash/dcc/async-plotlyjs.js HTTP/1.1\" 304 -\n",
      "127.0.0.1 - - [26/May/2023 16:04:45] \"POST /_dash-update-component HTTP/1.1\" 200 -\n",
      "127.0.0.1 - - [26/May/2023 16:04:45] \"POST /_dash-update-component HTTP/1.1\" 200 -\n",
      "127.0.0.1 - - [26/May/2023 16:04:45] \"POST /_dash-update-component HTTP/1.1\" 200 -\n",
      "127.0.0.1 - - [26/May/2023 16:04:45] \"POST /_dash-update-component HTTP/1.1\" 200 -\n"
     ]
    }
   ],
   "source": [
    "app.run_server(debug=False)"
   ],
   "metadata": {
    "collapsed": false,
    "pycharm": {
     "is_executing": true
    }
   }
  },
  {
   "cell_type": "code",
   "execution_count": null,
   "outputs": [],
   "source": [],
   "metadata": {
    "collapsed": false,
    "pycharm": {
     "is_executing": true
    }
   }
  }
 ],
 "metadata": {
  "kernelspec": {
   "display_name": "Python 3",
   "language": "python",
   "name": "python3"
  },
  "language_info": {
   "codemirror_mode": {
    "name": "ipython",
    "version": 2
   },
   "file_extension": ".py",
   "mimetype": "text/x-python",
   "name": "python",
   "nbconvert_exporter": "python",
   "pygments_lexer": "ipython2",
   "version": "2.7.6"
  }
 },
 "nbformat": 4,
 "nbformat_minor": 0
}
