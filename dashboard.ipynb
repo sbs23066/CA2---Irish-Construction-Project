{
 "cells": [
  {
   "cell_type": "code",
   "execution_count": 637,
   "metadata": {
    "collapsed": true
   },
   "outputs": [],
   "source": [
    "import pandas as pd\n",
    "import numpy as np\n",
    "from datetime import datetime, timedelta\n",
    "import plotly.graph_objects as go\n",
    "import dash\n",
    "import dash_core_components as dcc\n",
    "import dash_html_components as html\n",
    "from dash.dependencies import Input, Output, State\n",
    "import dash_bootstrap_components as dbc\n",
    "import sys\n",
    "import logging\n",
    "import os"
   ]
  },
  {
   "cell_type": "markdown",
   "source": [
    "To allow for flexible changes made some styling variables"
   ],
   "metadata": {
    "collapsed": false
   }
  },
  {
   "cell_type": "markdown",
   "source": [
    "#This code won't work as the app.run_server prevents it, could be done using threading but beyond scope of this assignment\n",
    "\n",
    "logging.basicConfig(filename='app.log', filemode='w', level=logging.INFO) # To help debugging\n",
    "logger = logging.getLogger()\n",
    "logger.info(f'Log file : {datetime.now()}')"
   ],
   "metadata": {
    "collapsed": false
   }
  },
  {
   "cell_type": "code",
   "execution_count": 638,
   "outputs": [],
   "source": [
    "BACKGROUND_COLOR = '#242424'\n",
    "FONT_COLOR = '#FFFFFF'\n",
    "FONT_FAMILY = 'Lato'\n",
    "PADDING = '10px'\n",
    "\n",
    "H1_STYLE = {'font-size':'30px','text-align':'center'}\n",
    "H3_STYLE = {'font-size':'14px'}\n",
    "\n",
    "KPI_BOX_STYLE = {\n",
    "    'textAlign': 'center',\n",
    "    'padding': PADDING,\n",
    "    'color': FONT_COLOR,\n",
    "    'fontFamily': FONT_FAMILY,\n",
    "    'backgroundColor': '#1E88E5',\n",
    "    'borderRadius': '10px',\n",
    "    'height': '100%',\n",
    "    'display': 'flex',\n",
    "    'justifyContent': 'center',\n",
    "    'alignItems': 'center'\n",
    "}"
   ],
   "metadata": {
    "collapsed": false
   }
  },
  {
   "cell_type": "code",
   "execution_count": 639,
   "outputs": [],
   "source": [
    "# Dummy data initially used for testing, not needed anymore\n",
    "def generate_data(num_rows=1000):\n",
    "    np.random.seed(0)\n",
    "    years = np.random.choice(range(2000, 2024), num_rows)\n",
    "    countries = np.random.choice(['Germany', 'France', 'Italy', 'Spain', 'UK', 'Belgium', 'Netherlands', 'Denmark', 'Sweden', 'Norway', 'Finland'], num_rows)\n",
    "    construction_values = np.random.uniform(1000, 50000, num_rows)\n",
    "    labor_wages = np.random.uniform(10, 50, num_rows)\n",
    "    building_costs = np.random.uniform(500, 30000, num_rows)\n",
    "\n",
    "    return pd.DataFrame({'Year': years, 'Country': countries,\n",
    "                         'Construction Value': construction_values,\n",
    "                         'Labor Wages': labor_wages,\n",
    "                         'Building Cost': building_costs})"
   ],
   "metadata": {
    "collapsed": false
   }
  },
  {
   "cell_type": "code",
   "execution_count": 640,
   "outputs": [],
   "source": [
    "folder = 'Dashboard Data'\n",
    "\n",
    "if folder not in os.getcwd():\n",
    "    os.chdir('Dashboard Data')\n",
    "\n",
    "labor_wages_cluster = pd.read_csv('Labor-Wages-Cluster.csv')\n",
    "\n",
    "employment_country_cluster = pd.read_csv('Employment-Country-Cluster.csv')\n",
    "\n",
    "sentiment_data = pd.read_csv('finalRedditSentiment.csv')\n",
    "\n",
    "sentiment_topics = pd.read_csv('Sentiment-Topics.csv')\n",
    "\n",
    "dfs = []\n",
    "\n",
    "for file in os.listdir():\n",
    "\n",
    "    if 'GVA' in file:\n",
    "\n",
    "        country = file.split('_GVA')[0]\n",
    "\n",
    "        df = pd.read_csv(file)\n",
    "\n",
    "        df['Country'] = country\n",
    "\n",
    "        dfs.append(df)\n",
    "\n",
    "gva_df = pd.concat(dfs)\n",
    "\n",
    "gfcf_df = pd.read_csv('GFCF.csv')\n",
    "\n",
    "sts_employment_df = pd.read_csv('STS_Employment.csv')\n",
    "\n",
    "gva_countries = gva_df['Country'].unique()\n",
    "gfcf_countries = gfcf_df['Country'].unique()\n",
    "\n",
    "common_countries = set(gva_countries) & set(gfcf_countries)\n",
    "common_countries_list = list(common_countries)"
   ],
   "metadata": {
    "collapsed": false
   }
  },
  {
   "cell_type": "code",
   "execution_count": 641,
   "outputs": [],
   "source": [
    "df = generate_data()\n",
    "app = dash.Dash(__name__, external_stylesheets=[dbc.themes.CYBORG])"
   ],
   "metadata": {
    "collapsed": false
   }
  },
  {
   "cell_type": "code",
   "execution_count": 642,
   "outputs": [],
   "source": [
    "def create_kpi_box(box_id):\n",
    "    return dbc.Col(html.Div(id=box_id, style=KPI_BOX_STYLE), width=3)"
   ],
   "metadata": {
    "collapsed": false
   }
  },
  {
   "cell_type": "code",
   "execution_count": 643,
   "outputs": [],
   "source": [
    "@app.callback(\n",
    "    Output('scatter-plot', 'figure'),\n",
    "    [Input('country-dropdown', 'value')]\n",
    ")\n",
    "def update_scatter_plot(countries):\n",
    "    try:\n",
    "        gva_filtered = gva_df[gva_df['Country'].isin(countries)]\n",
    "\n",
    "        gva_filtered['Predicted GVA'] = gva_filtered['Predicted GVA'] * 1e6\n",
    "        gva_filtered['GVA'] = gva_filtered['GVA'] * 1e6\n",
    "\n",
    "        # Group by Year and calculate the sum of GVA and Predicted GVA\n",
    "        gva_grouped = gva_filtered.groupby('Year').sum().reset_index()\n",
    "\n",
    "        # Drop rows where GVA is 0 or NaN\n",
    "        gva_grouped_gva = gva_grouped[(gva_grouped['GVA'] != 0) & (gva_grouped['GVA'].notna())]\n",
    "        gva_grouped_predicted_gva = gva_grouped[gva_grouped['Predicted GVA'].notna()]\n",
    "\n",
    "        scatter_plot_gva = go.Scatter(\n",
    "            x=gva_grouped_gva['Year'],\n",
    "            y=gva_grouped_gva['GVA'],\n",
    "            mode='lines+markers',\n",
    "            name='Total GVA'\n",
    "        )\n",
    "\n",
    "        scatter_plot_predicted_gva = go.Scatter(\n",
    "            x=gva_grouped_predicted_gva['Year'],\n",
    "            y=gva_grouped_predicted_gva['Predicted GVA'],\n",
    "            mode='lines+markers',\n",
    "            name='Total Predicted GVA'\n",
    "        )\n",
    "\n",
    "        layout = go.Layout(\n",
    "            title='Total GVA and Total Predicted GVA by Year',\n",
    "            xaxis=dict(title='Year'),\n",
    "            yaxis=dict(title='Value'),\n",
    "            autosize=True\n",
    "        )\n",
    "\n",
    "        return {'data': [scatter_plot_gva, scatter_plot_predicted_gva], 'layout': layout}\n",
    "    except Exception as e:\n",
    "        logging.exception(e)\n"
   ],
   "metadata": {
    "collapsed": false
   }
  },
  {
   "cell_type": "code",
   "execution_count": 644,
   "outputs": [],
   "source": [
    "@app.callback(\n",
    "    Output('bar-chart', 'figure'),\n",
    "    [Input('year-slider', 'value'),\n",
    "     Input('top-5-check', 'value'),\n",
    "     Input('country-dropdown', 'value')]\n",
    ")\n",
    "def update_bar_chart(year_range, check_values, countries):\n",
    "    try:\n",
    "        gfcf_filtered = gfcf_df[(gfcf_df['Year'] >= year_range[1]) & (gfcf_df['Year'] <= year_range[1]) & gfcf_df['Country'].isin(countries)]\n",
    "\n",
    "        # convert to millions\n",
    "        gfcf_filtered['Construction Value'] = gfcf_filtered['Construction Value'] * 1e6\n",
    "\n",
    "        if 'top-5' in check_values:\n",
    "            gfcf_filtered = gfcf_filtered.groupby('Country')['Construction Value']\n",
    "            gfcf_filtered = gfcf_filtered.mean().sort_values(ascending=False)[:5].reset_index()\n",
    "\n",
    "        bar_chart = go.Bar(\n",
    "            x=gfcf_filtered['Country'],\n",
    "            y=gfcf_filtered['Construction Value'],\n",
    "        )\n",
    "\n",
    "        layout = go.Layout(\n",
    "            title=f'Construction Value by Country for {year_range[1]}',\n",
    "            xaxis=dict(title='Country'),\n",
    "            yaxis=dict(title='Construction Value'),\n",
    "            autosize=True\n",
    "        )\n",
    "\n",
    "        return {'data': [bar_chart], 'layout': layout}\n",
    "    except Exception as e:\n",
    "        logging.exception(e)\n"
   ],
   "metadata": {
    "collapsed": false
   }
  },
  {
   "cell_type": "code",
   "execution_count": 645,
   "outputs": [],
   "source": [
    "@app.callback(\n",
    "    Output('clustered-bar-chart', 'figure'),\n",
    "    [Input('sentiment-topic-dropdown', 'value')]\n",
    ")\n",
    "def update_clustered_bar_chart(topics):\n",
    "    try:\n",
    "        data = []\n",
    "\n",
    "        avg_neg_list = []\n",
    "        avg_neu_list = []\n",
    "        avg_pos_list = []\n",
    "\n",
    "        for topic in topics:\n",
    "            sentiment_filtered = sentiment_topics[sentiment_topics['topic'] == topic]\n",
    "\n",
    "            avg_neg = sentiment_filtered['neg'].mean()\n",
    "            avg_neu = sentiment_filtered['neu'].mean()\n",
    "            avg_pos = sentiment_filtered['pos'].mean()\n",
    "\n",
    "            avg_neg_list.append(avg_neg)\n",
    "            avg_neu_list.append(avg_neu)\n",
    "            avg_pos_list.append(avg_pos)\n",
    "\n",
    "        bar_chart_neg = go.Bar(\n",
    "            x=topics,\n",
    "            y=avg_neg_list,\n",
    "            name='Negative Sentiment',\n",
    "            marker_color='red'\n",
    "        )\n",
    "\n",
    "        bar_chart_neu = go.Bar(\n",
    "            x=topics,\n",
    "            y=avg_neu_list,\n",
    "            name='Neutral Sentiment',\n",
    "            marker_color='grey'\n",
    "        )\n",
    "\n",
    "        bar_chart_pos = go.Bar(\n",
    "            x=topics,\n",
    "            y=avg_pos_list,\n",
    "            name='Positive Sentiment',\n",
    "            marker_color='green'\n",
    "        )\n",
    "\n",
    "        data.extend([bar_chart_neg, bar_chart_neu, bar_chart_pos])\n",
    "\n",
    "        layout = go.Layout(\n",
    "            title='Average Sentiment Values for Selected Topics',\n",
    "            xaxis=dict(title='Topic'),\n",
    "            yaxis=dict(title='Average Sentiment Value'),\n",
    "            barmode='group',\n",
    "            autosize=True\n",
    "        )\n",
    "\n",
    "        return {'data': data, 'layout': layout}\n",
    "    except Exception as e:\n",
    "        logging.exception(e)\n"
   ],
   "metadata": {
    "collapsed": false
   }
  },
  {
   "cell_type": "code",
   "execution_count": 646,
   "outputs": [],
   "source": [
    "@app.callback(\n",
    "    Output('scatter-chart', 'figure'),\n",
    "    [Input('dummy-input', 'value')]\n",
    ")\n",
    "def update_scatter_chart(dummy_value):\n",
    "    try:\n",
    "        scatter_plots = []\n",
    "        for cluster in labor_wages_cluster['Cluster'].unique():\n",
    "            cluster_data = labor_wages_cluster[labor_wages_cluster['Cluster'] == cluster]\n",
    "            scatter_plot = go.Scatter(\n",
    "                x=cluster_data['Total Labor Employment Index'],\n",
    "                y=cluster_data['Total Wages Index'],\n",
    "                mode='markers',\n",
    "                name=f'Cluster {cluster}',\n",
    "                marker=dict(size=8)\n",
    "            )\n",
    "            scatter_plots.append(scatter_plot)\n",
    "\n",
    "        layout = go.Layout(\n",
    "            title='Labor and Wages Clustering',\n",
    "            xaxis=dict(title='Total Labor Employment Index'),\n",
    "            yaxis=dict(title='Total Wages Index')\n",
    "        )\n",
    "\n",
    "        return {'data': scatter_plots, 'layout': layout}\n",
    "    except Exception as e:\n",
    "        logging.exception(e)\n"
   ],
   "metadata": {
    "collapsed": false
   }
  },
  {
   "cell_type": "code",
   "execution_count": 647,
   "outputs": [],
   "source": [
    "@app.callback(\n",
    "    [Output('kpi-1', 'children'),\n",
    "     Output('kpi-2', 'children'),\n",
    "     Output('kpi-3', 'children'),\n",
    "     Output('kpi-4', 'children')],\n",
    "    [Input('year-slider', 'value'),\n",
    "     Input('country-dropdown', 'value')]\n",
    ")\n",
    "def update_kpi_boxes(year_range, countries):\n",
    "    try:\n",
    "        gfcf_filtered = gfcf_df[(gfcf_df['Year'] >= year_range[0]) & (gfcf_df['Year'] <= year_range[1]) & gfcf_df['Country'].isin(countries)]\n",
    "        gva_filtered = gva_df[(gva_df['Year'] >= year_range[0]) & (gva_df['Year'] <= year_range[1]) & gva_df['Country'].isin(countries)]\n",
    "\n",
    "        total_construction_value = round(gfcf_filtered['Construction Value'].sum(),2)\n",
    "        avg_dwelling_value = round(gfcf_filtered['Dwellings Value'].mean(),2)\n",
    "        n_countries = len(gfcf_filtered['Country'].unique())\n",
    "\n",
    "        total_gross_value_add = round(gva_filtered['GVA'].sum(),2)\n",
    "\n",
    "        return f'Total Construction Value: €{total_construction_value}M', f'Total Gross Value Add: €{total_gross_value_add}M', f'Average Dwelling Value: €{avg_dwelling_value}M', f'Number Countries: {n_countries}'\n",
    "\n",
    "    except Exception as e:\n",
    "        logging.exception(e)\n",
    "        return 'Error'\n"
   ],
   "metadata": {
    "collapsed": false
   }
  },
  {
   "cell_type": "code",
   "execution_count": 648,
   "outputs": [],
   "source": [
    "app.layout = html.Div(children=[\n",
    "    dbc.Container(\n",
    "        [\n",
    "            dbc.Row(\n",
    "                [\n",
    "                    dbc.Col(\n",
    "                        [\n",
    "                            html.H1(\"Construction Analytics Dashboard\", style=H1_STYLE),\n",
    "                            html.Hr(),\n",
    "                            dbc.Row(\n",
    "                                [\n",
    "                                    create_kpi_box('kpi-1'),\n",
    "                                    create_kpi_box('kpi-2'),\n",
    "                                    create_kpi_box('kpi-3'),\n",
    "                                    create_kpi_box('kpi-4'),\n",
    "                                ]\n",
    "                            ),\n",
    "                            html.Hr(),\n",
    "                            html.H3(\"Select Countries\", style=H3_STYLE),\n",
    "                            dcc.Dropdown(\n",
    "                                id='country-dropdown',\n",
    "                                options=[{'label': i, 'value': i} for i in gfcf_df['Country'].unique()],\n",
    "                                multi=True,\n",
    "                                value=common_countries_list  # Default value is now all countries\n",
    "                            ),\n",
    "                            html.Hr(),\n",
    "                            html.H3(\"Select Year\", style=H3_STYLE),\n",
    "                            dcc.RangeSlider(\n",
    "                                id='year-slider',\n",
    "                                min=gfcf_df['Year'].min(),\n",
    "                                max=gfcf_df['Year'].max(),\n",
    "                                value=[gfcf_df['Year'].min(), gfcf_df['Year'].max()],\n",
    "                                marks={str(year): str(year) for year in gfcf_df['Year'].unique()},\n",
    "                                step=None\n",
    "                            ),\n",
    "                            html.Hr(),\n",
    "                            dbc.Row(\n",
    "                                [\n",
    "                                    dbc.Col(\n",
    "                                        [\n",
    "                                            dcc.Graph(id='scatter-plot')\n",
    "                                        ]\n",
    "                                    )\n",
    "                                ]\n",
    "                            ),\n",
    "                            html.Hr(),\n",
    "                            dbc.Row(\n",
    "                                [\n",
    "                                    dbc.Col(\n",
    "                                        [\n",
    "                                            dcc.Checklist(\n",
    "                                                id='top-5-check',\n",
    "                                                options=[{'label': 'Top 5', 'value': 'top-5'}],\n",
    "                                                value=[]\n",
    "                                            ),\n",
    "                                            dcc.Graph(id='bar-chart')\n",
    "                                        ]\n",
    "                                    )\n",
    "                                ]\n",
    "                            ),\n",
    "                            html.Hr(),\n",
    "                            dbc.Row(\n",
    "                                [\n",
    "                                    dbc.Col(\n",
    "                                        [\n",
    "                                            dcc.Dropdown(\n",
    "                                                id='sentiment-topic-dropdown',\n",
    "                                                options=[{'label': i, 'value': i} for i in sentiment_topics['topic'].unique()],\n",
    "                                                multi=True,\n",
    "                                                value=[i for i in sentiment_topics['topic'].unique()]\n",
    "                                            ),\n",
    "                                            html.H3(\"Note: Only showing data from subreddits : ireland, germany, france and europe\", style=H3_STYLE),\n",
    "                                            dcc.Graph(id='clustered-bar-chart')\n",
    "                                        ]\n",
    "                                    )\n",
    "                                ]\n",
    "                            ),\n",
    "                            html.Hr(),\n",
    "                            dbc.Row(\n",
    "                                [\n",
    "                                    dbc.Col(\n",
    "                                        [\n",
    "                                            dcc.Input(id='dummy-input', type='hidden'),\n",
    "                                            dcc.Graph(id='scatter-chart')\n",
    "                                        ]\n",
    "                                    )\n",
    "                                ]\n",
    "                            )\n",
    "\n",
    "                        ]\n",
    "                    )\n",
    "                ]\n",
    "            )\n",
    "        ]\n",
    "    )\n",
    "])\n"
   ],
   "metadata": {
    "collapsed": false
   }
  },
  {
   "cell_type": "markdown",
   "source": [
    "Finally run the app, it will run on your local network, e.g. http://127.0.0.1:XXXX/"
   ],
   "metadata": {
    "collapsed": false
   }
  },
  {
   "cell_type": "code",
   "execution_count": null,
   "outputs": [
    {
     "name": "stdout",
     "output_type": "stream",
     "text": [
      "Dash is running on http://127.0.0.1:8050/\n",
      "\n"
     ]
    },
    {
     "name": "stderr",
     "output_type": "stream",
     "text": [
      "INFO:dash.dash:Dash is running on http://127.0.0.1:8050/\n",
      "\n"
     ]
    },
    {
     "name": "stdout",
     "output_type": "stream",
     "text": [
      " * Serving Flask app '__main__'\n",
      " * Debug mode: off\n"
     ]
    },
    {
     "name": "stderr",
     "output_type": "stream",
     "text": [
      "WARNING: This is a development server. Do not use it in a production deployment. Use a production WSGI server instead.\n",
      " * Running on http://127.0.0.1:8050\n",
      "INFO:werkzeug:\u001B[31m\u001B[1mWARNING: This is a development server. Do not use it in a production deployment. Use a production WSGI server instead.\u001B[0m\n",
      " * Running on http://127.0.0.1:8050\n",
      "Press CTRL+C to quit\n",
      "INFO:werkzeug:\u001B[33mPress CTRL+C to quit\u001B[0m\n"
     ]
    }
   ],
   "source": [
    "app.run_server(debug=False)"
   ],
   "metadata": {
    "collapsed": false,
    "pycharm": {
     "is_executing": true
    }
   }
  },
  {
   "cell_type": "code",
   "execution_count": null,
   "outputs": [],
   "source": [],
   "metadata": {
    "collapsed": false,
    "pycharm": {
     "is_executing": true
    }
   }
  }
 ],
 "metadata": {
  "kernelspec": {
   "display_name": "Python 3",
   "language": "python",
   "name": "python3"
  },
  "language_info": {
   "codemirror_mode": {
    "name": "ipython",
    "version": 2
   },
   "file_extension": ".py",
   "mimetype": "text/x-python",
   "name": "python",
   "nbconvert_exporter": "python",
   "pygments_lexer": "ipython2",
   "version": "2.7.6"
  }
 },
 "nbformat": 4,
 "nbformat_minor": 0
}
