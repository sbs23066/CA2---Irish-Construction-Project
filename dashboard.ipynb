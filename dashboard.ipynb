{
 "cells": [
  {
   "cell_type": "code",
   "execution_count": 67,
   "metadata": {
    "collapsed": true
   },
   "outputs": [],
   "source": [
    "import pandas as pd\n",
    "import numpy as np\n",
    "from datetime import datetime, timedelta\n",
    "import plotly.graph_objects as go\n",
    "import dash\n",
    "import dash_core_components as dcc\n",
    "import dash_html_components as html\n",
    "from dash.dependencies import Input, Output"
   ]
  },
  {
   "cell_type": "code",
   "execution_count": 68,
   "outputs": [],
   "source": [
    "def generate_data(num_rows=100):\n",
    "\n",
    "    np.random.seed(0)\n",
    "\n",
    "    years = np.random.choice(range(2000, 2023), num_rows)\n",
    "    countries = np.random.choice(['Germany', 'France', 'Italy', 'Spain', 'UK'], num_rows)\n",
    "    construction_values = np.random.uniform(1000, 50000, num_rows)\n",
    "    labor_wages = np.random.uniform(10, 50, num_rows)\n",
    "    building_costs = np.random.uniform(500, 30000, num_rows)\n",
    "\n",
    "    return pd.DataFrame({'Year': years, 'Country': countries,\n",
    "                         'Construction Value': construction_values,\n",
    "                         'Labor Wages': labor_wages,\n",
    "                         'Building Cost': building_costs})"
   ],
   "metadata": {
    "collapsed": false
   }
  },
  {
   "cell_type": "code",
   "execution_count": 69,
   "outputs": [],
   "source": [
    "df = generate_data()\n",
    "\n",
    "app = dash.Dash(__name__)"
   ],
   "metadata": {
    "collapsed": false
   }
  },
  {
   "cell_type": "code",
   "execution_count": 70,
   "outputs": [],
   "source": [
    "@app.callback(\n",
    "    Output('scatter-plot', 'figure'),\n",
    "    Input('country-dropdown', 'value')\n",
    ")\n",
    "def update_scatter_plot(country):\n",
    "    df_filtered = df[df['Country'] == country]\n",
    "\n",
    "    scatter_plot = go.Scatter(x=df_filtered['Year'],\n",
    "                              y=df_filtered['Construction Value'],\n",
    "                              mode='markers',\n",
    "                              marker=dict(size=10, color='#1E88E5'))\n",
    "\n",
    "    layout = go.Layout(title='Construction Value over Time',\n",
    "                       xaxis=dict(title='Year'),\n",
    "                       yaxis=dict(title='Construction Value'))\n",
    "\n",
    "    return {'data': [scatter_plot], 'layout': layout}"
   ],
   "metadata": {
    "collapsed": false
   }
  },
  {
   "cell_type": "code",
   "execution_count": 71,
   "outputs": [],
   "source": [
    "@app.callback(\n",
    "    Output('bar-chart', 'figure'),\n",
    "    Input('year-slider', 'value')\n",
    ")\n",
    "def update_bar_chart(year):\n",
    "    df_filtered = df[df['Year'] == year]\n",
    "\n",
    "    bar_chart = go.Bar(x=df_filtered['Country'],\n",
    "                       y=df_filtered['Construction Value'],\n",
    "                       marker=dict(color='#FFC107'))\n",
    "\n",
    "    layout = go.Layout(title=f'Construction Value by Country in {year}',\n",
    "                       xaxis=dict(title='Country'),\n",
    "                       yaxis=dict(title='Construction Value'))\n",
    "\n",
    "    return {'data': [bar_chart], 'layout': layout}"
   ],
   "metadata": {
    "collapsed": false
   }
  },
  {
   "cell_type": "code",
   "execution_count": 72,
   "outputs": [],
   "source": [
    "@app.callback(\n",
    "    Output('histogram', 'figure'),\n",
    "    Input('country-dropdown', 'value')\n",
    ")\n",
    "def update_histogram(country):\n",
    "    df_filtered = df[df['Country'] == country]\n",
    "\n",
    "    histogram = go.Histogram(x=df_filtered['Labor Wages'],\n",
    "                             nbinsx=20,\n",
    "                             marker=dict(color='#00796B'))\n",
    "\n",
    "    layout = go.Layout(title='Distribution of Labor Wages',\n",
    "                       xaxis=dict(title='Labor Wage'),\n",
    "                       yaxis=dict(title='Frequency'))\n",
    "\n",
    "    return {'data': [histogram], 'layout': layout}"
   ],
   "metadata": {
    "collapsed": false
   }
  },
  {
   "cell_type": "code",
   "execution_count": 73,
   "outputs": [],
   "source": [
    "def update_pie_chart(value):\n",
    "    df_grouped = df.groupby('Country')[value].mean()\n",
    "\n",
    "    pie_chart = go.Pie(labels=df_grouped.index, values=df_grouped.values)\n",
    "\n",
    "    layout = go.Layout(title=f'Average {value} by Country')\n",
    "\n",
    "    return {'data': [pie_chart], 'layout': layout}"
   ],
   "metadata": {
    "collapsed": false
   }
  },
  {
   "cell_type": "code",
   "execution_count": 74,
   "outputs": [],
   "source": [
    "app.layout = html.Div(style={'backgroundColor':'#F4F4F4'}, children=[\n",
    "    html.H1(\"Construction Dashboard\",\n",
    "            style={'text-align':'center', 'padding':'10px', 'color':'#000000'}),\n",
    "\n",
    "    dcc.Graph(id='scatter-plot'),\n",
    "\n",
    "    dcc.Dropdown(\n",
    "        id='country-dropdown',\n",
    "        options=[\n",
    "            {'label': country, 'value': country}\n",
    "            for country in df['Country'].unique()\n",
    "        ],\n",
    "        value='Germany'\n",
    "    ),\n",
    "\n",
    "    dcc.Graph(id='bar-chart'),\n",
    "\n",
    "    dcc.Slider(\n",
    "        id='year-slider',\n",
    "        min=df['Year'].min(),\n",
    "        max=df['Year'].max(),\n",
    "        value=df['Year'].min(),\n",
    "        marks={str(year): str(year) for year in df['Year'].unique()},\n",
    "        step=None\n",
    "    ),\n",
    "\n",
    "    dcc.Graph(id='pie-chart'),\n",
    "\n",
    "    dcc.RadioItems(\n",
    "        id='wage-cost-radio',\n",
    "        options=[\n",
    "            {'label': 'Labor Wages', 'value': 'Labor Wages'},\n",
    "            {'label': 'Building Cost', 'value': 'Building Cost'},\n",
    "        ],\n",
    "        value='Labor Wages'\n",
    "    ),\n",
    "\n",
    "    dcc.Graph(id='histogram'),\n",
    "])"
   ],
   "metadata": {
    "collapsed": false
   }
  },
  {
   "cell_type": "markdown",
   "source": [
    "Finally run the app, it will run on your local network, e.g. http://127.0.0.1:XXXX/"
   ],
   "metadata": {
    "collapsed": false
   }
  },
  {
   "cell_type": "code",
   "execution_count": 75,
   "outputs": [
    {
     "name": "stdout",
     "output_type": "stream",
     "text": [
      "Dash is running on http://127.0.0.1:8050/\n",
      "\n",
      " * Serving Flask app '__main__'\n",
      " * Debug mode: off\n"
     ]
    },
    {
     "name": "stderr",
     "output_type": "stream",
     "text": [
      "WARNING: This is a development server. Do not use it in a production deployment. Use a production WSGI server instead.\n",
      " * Running on http://127.0.0.1:8050\n",
      "Press CTRL+C to quit\n",
      "127.0.0.1 - - [26/May/2023 14:17:20] \"GET / HTTP/1.1\" 200 -\n",
      "127.0.0.1 - - [26/May/2023 14:17:20] \"GET /_dash-layout HTTP/1.1\" 200 -\n",
      "127.0.0.1 - - [26/May/2023 14:17:20] \"GET /_dash-dependencies HTTP/1.1\" 200 -\n",
      "127.0.0.1 - - [26/May/2023 14:17:20] \"GET /_dash-component-suites/dash/dcc/async-graph.js HTTP/1.1\" 304 -\n",
      "127.0.0.1 - - [26/May/2023 14:17:20] \"GET /_dash-component-suites/dash/dcc/async-dropdown.js HTTP/1.1\" 200 -\n",
      "127.0.0.1 - - [26/May/2023 14:17:20] \"GET /_dash-component-suites/dash/dcc/async-plotlyjs.js HTTP/1.1\" 304 -\n",
      "127.0.0.1 - - [26/May/2023 14:17:20] \"GET /_dash-component-suites/dash/dcc/async-slider.js HTTP/1.1\" 200 -\n",
      "127.0.0.1 - - [26/May/2023 14:17:20] \"POST /_dash-update-component HTTP/1.1\" 200 -\n",
      "127.0.0.1 - - [26/May/2023 14:17:20] \"POST /_dash-update-component HTTP/1.1\" 200 -\n",
      "127.0.0.1 - - [26/May/2023 14:17:20] \"POST /_dash-update-component HTTP/1.1\" 200 -\n"
     ]
    }
   ],
   "source": [
    "app.run_server(debug=False)"
   ],
   "metadata": {
    "collapsed": false
   }
  },
  {
   "cell_type": "code",
   "execution_count": 66,
   "outputs": [],
   "source": [],
   "metadata": {
    "collapsed": false
   }
  }
 ],
 "metadata": {
  "kernelspec": {
   "display_name": "Python 3",
   "language": "python",
   "name": "python3"
  },
  "language_info": {
   "codemirror_mode": {
    "name": "ipython",
    "version": 2
   },
   "file_extension": ".py",
   "mimetype": "text/x-python",
   "name": "python",
   "nbconvert_exporter": "python",
   "pygments_lexer": "ipython2",
   "version": "2.7.6"
  }
 },
 "nbformat": 4,
 "nbformat_minor": 0
}
